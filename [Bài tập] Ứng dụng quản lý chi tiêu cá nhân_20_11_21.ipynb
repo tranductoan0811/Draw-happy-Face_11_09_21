{
 "cells": [
  {
   "cell_type": "code",
   "execution_count": 2,
   "id": "85034afd",
   "metadata": {},
   "outputs": [
    {
     "ename": "NameError",
     "evalue": "name 'expenses' is not defined",
     "output_type": "error",
     "traceback": [
      "\u001b[1;31m---------------------------------------------------------------------------\u001b[0m",
      "\u001b[1;31mNameError\u001b[0m                                 Traceback (most recent call last)",
      "\u001b[1;32m~\\AppData\\Local\\Temp/ipykernel_11236/3376626578.py\u001b[0m in \u001b[0;36m<module>\u001b[1;34m\u001b[0m\n\u001b[0;32m     30\u001b[0m \u001b[1;31m# In mảng chi tiêu hiện tại và lấy yêu cầu muốn thêm hay xoá của người dùng\u001b[0m\u001b[1;33m\u001b[0m\u001b[1;33m\u001b[0m\u001b[1;33m\u001b[0m\u001b[0m\n\u001b[0;32m     31\u001b[0m \u001b[1;31m# Dùng hàm print() để in ra mảng chi tiêu hiện tại\u001b[0m\u001b[1;33m\u001b[0m\u001b[1;33m\u001b[0m\u001b[1;33m\u001b[0m\u001b[0m\n\u001b[1;32m---> 32\u001b[1;33m \u001b[0mprint\u001b[0m\u001b[1;33m(\u001b[0m\u001b[1;34m\"Your expenses:\"\u001b[0m\u001b[1;33m,\u001b[0m \u001b[0mexpenses\u001b[0m\u001b[1;33m)\u001b[0m\u001b[1;33m\u001b[0m\u001b[1;33m\u001b[0m\u001b[0m\n\u001b[0m\u001b[0;32m     33\u001b[0m \u001b[1;33m\u001b[0m\u001b[0m\n\u001b[0;32m     34\u001b[0m \u001b[1;31m# Dùng hàm print() để in ra các phương thức mà người dùng có thể chọn\u001b[0m\u001b[1;33m\u001b[0m\u001b[1;33m\u001b[0m\u001b[1;33m\u001b[0m\u001b[0m\n",
      "\u001b[1;31mNameError\u001b[0m: name 'expenses' is not defined"
     ]
    }
   ],
   "source": [
    "# Khởi tạo hàm thêm mục chi tiêu, \n",
    "# nhận hai tham số là mảng chi tiêu hiện tại và mục chi tiêu mới.\n",
    "\n",
    "myTempList = [\"Mua gạo\", 10000, \"20/11/2021\"]\n",
    "\n",
    "def add_item(myTempListmyTempList, item):    \n",
    "    myTempList.append(item)\n",
    "    \n",
    "# Khởi tạo hàm tìm index của phần tử trong mảng, \n",
    "# nhận hai tham số là mảng chi tiêu hiện tại \n",
    "# và tên của khoản chi tiêu cần tìm\n",
    "\n",
    "def find_index_item(myTempList, item_name):\n",
    "    result = -1\n",
    "    length = len(myTempList)\n",
    "    for i in range(length):\n",
    "        if myTempList[i]['name'] == item_name:\n",
    "            result = i\n",
    "    return result\n",
    "\n",
    "# Khởi tạo hàm xoá phần tử khỏi mảng chi tiêu, \n",
    "# nhận hai tham số là mảng hiện tại và tên của khoản chi tiêu muốn xoá\n",
    "\n",
    "def remove_item(myTempList, item_name):\n",
    "    if find_index_item(myTempList, item_name) > -1:\n",
    "        del myTempList[find_index_item(myTempList, item_name)]\n",
    "    else:\n",
    "        print(item_name + \" not in list\")\n",
    "        \n",
    "# In mảng chi tiêu hiện tại và lấy yêu cầu muốn thêm hay xoá của người dùng\n",
    "# Dùng hàm print() để in ra mảng chi tiêu hiện tại\n",
    "print(\"Your expenses:\", expenses)\n",
    "\n",
    "# Dùng hàm print() để in ra các phương thức mà người dùng có thể chọn\n",
    "\n",
    "print(\"What do you want to do? -\\n\"\\\n",
    "        \"1. Add\\n\" \\\n",
    "        \"2. Remove\")\n",
    "\n",
    "# Dùng hàm input() để lấy yêu cầu từ người dùng, sau đó dùng int() để chuyển giá trị về kiểu int, \n",
    "# sau đó gán giá trị cho biến option\n",
    "option = int(input(\"Select option 1 or 2: \"))\n",
    "\n",
    "# Dùng hàm input() để lấy tên khoản chi từ người dùng, \n",
    "# sau đó gán giá trị cho biến name_ input\n",
    "name_input = input(\"Item name: \")\n",
    "\n",
    "# Kiểm tra yêu cầu của người dùng và gọi hàm tương ứng\n",
    "if option == 1:\n",
    "    cost_input = int(input(\"Item cost: \"))\n",
    "    date_input = input(\"Date: \")\n",
    "    item = {'name': name_input, 'cost':cost_input, 'date':date_input}\n",
    "    add_item(expenses, item)\n",
    "    print(\"Your expenses: \", expenses)\n",
    "elif option == 2:\n",
    "    remove_item(expenses, name_input)\n",
    "    print(\"Your expenses: \", expenses)\n",
    "else:\n",
    "    print(\"Invalid input\")\n"
   ]
  }
 ],
 "metadata": {
  "kernelspec": {
   "display_name": "Python 3 (ipykernel)",
   "language": "python",
   "name": "python3"
  },
  "language_info": {
   "codemirror_mode": {
    "name": "ipython",
    "version": 3
   },
   "file_extension": ".py",
   "mimetype": "text/x-python",
   "name": "python",
   "nbconvert_exporter": "python",
   "pygments_lexer": "ipython3",
   "version": "3.9.6"
  }
 },
 "nbformat": 4,
 "nbformat_minor": 5
}
