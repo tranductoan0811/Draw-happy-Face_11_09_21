{
 "cells": [
  {
   "cell_type": "code",
   "execution_count": 4,
   "id": "535b835b",
   "metadata": {},
   "outputs": [],
   "source": [
    "# Khai báo hàm xoá số lớn nhất\n",
    "def remove_largest_number(numbers):\n",
    "    largest = 0\n",
    "    for number in numbers:\n",
    "        if number > largest:\n",
    "            largest = number\n",
    "    numbers.remove(largest)"
   ]
  },
  {
   "cell_type": "code",
   "execution_count": 9,
   "id": "5f646106",
   "metadata": {},
   "outputs": [
    {
     "name": "stdout",
     "output_type": "stream",
     "text": [
      "[1, 2, 22, 45, 33, 3]\n"
     ]
    }
   ],
   "source": [
    "#  chạy hàm remove_largest_number () với tham số truyền vào \n",
    "# là mảng số cho sẵn numbers\n",
    "\n",
    "numbers = [1, 2, 66, 22, 45, 33, 3]\n",
    "remove_largest_number(numbers)\n",
    "\n",
    "print(numbers)"
   ]
  }
 ],
 "metadata": {
  "kernelspec": {
   "display_name": "Python 3 (ipykernel)",
   "language": "python",
   "name": "python3"
  },
  "language_info": {
   "codemirror_mode": {
    "name": "ipython",
    "version": 3
   },
   "file_extension": ".py",
   "mimetype": "text/x-python",
   "name": "python",
   "nbconvert_exporter": "python",
   "pygments_lexer": "ipython3",
   "version": "3.9.6"
  }
 },
 "nbformat": 4,
 "nbformat_minor": 5
}
