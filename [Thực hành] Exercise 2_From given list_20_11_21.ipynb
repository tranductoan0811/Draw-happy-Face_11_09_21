{
 "cells": [
  {
   "cell_type": "code",
   "execution_count": 3,
   "id": "f7ff0552",
   "metadata": {},
   "outputs": [
    {
     "data": {
      "text/plain": [
       "'\\n – Tạo hai list, một list chỉ chứa chuỗi và một list chỉ chứa số từ list cho ở trên.\\n\\n – Sắp xếp list chứa chuỗi theo thứ tự tăng dần \\n\\n – Sắp xếp list chứa chuỗi theo thứ tự giảm dần\\n\\n – Sắp xếp list chứa số theo thứ tự tăng dần\\n\\n – Sắp xếp list chứa số theo thứ tự giảm dần\\n\\n'"
      ]
     },
     "execution_count": 3,
     "metadata": {},
     "output_type": "execute_result"
    }
   ],
   "source": [
    "# Luyện tập với các thao tác trên list\n",
    "gadgets = [\"Mobile\", \"Laptop\", 100, \"Camera\", 310.28, \"Speakers\", 27.00, \"Television\", 1000, \"Laptop Case\", \"Camera Lens\"]\n",
    "\n",
    "\"\"\"\n",
    " – Tạo hai list, một list chỉ chứa chuỗi và một list chỉ chứa số từ list cho ở trên.\n",
    "\n",
    " – Sắp xếp list chứa chuỗi theo thứ tự tăng dần \n",
    "\n",
    " – Sắp xếp list chứa chuỗi theo thứ tự giảm dần\n",
    "\n",
    " – Sắp xếp list chứa số theo thứ tự tăng dần\n",
    "\n",
    " – Sắp xếp list chứa số theo thứ tự giảm dần\n",
    "\n",
    "\"\"\""
   ]
  },
  {
   "cell_type": "code",
   "execution_count": 4,
   "id": "cb862ad0",
   "metadata": {},
   "outputs": [
    {
     "name": "stdout",
     "output_type": "stream",
     "text": [
      "List chứa chuỗi =  ['Mobile', 'Laptop', 'Camera', 'Speakers', 'Television', 'Laptop Case', 'Camera Lens']\n",
      "List chứa số =  [100, 310.28, 27.0, 1000]\n"
     ]
    }
   ],
   "source": [
    "# Tạo hai list chứa số và chuỗi từ list đã cho\n",
    "text = []\n",
    "numbers = []\n",
    "for i in gadgets:\n",
    "    if isinstance(i, str):\n",
    "        text.append(i)\n",
    "    else:\n",
    "        numbers.append(i)\n",
    "print(\"List chứa chuỗi = \", text)\n",
    "print(\"List chứa số = \", numbers)"
   ]
  },
  {
   "cell_type": "code",
   "execution_count": 5,
   "id": "21994abc",
   "metadata": {
    "scrolled": true
   },
   "outputs": [
    {
     "name": "stdout",
     "output_type": "stream",
     "text": [
      "List chứa chuỗi theo thứ tự tăng dần=  ['Camera', 'Camera Lens', 'Laptop', 'Laptop Case', 'Mobile', 'Speakers', 'Television']\n",
      "List chứa chuỗi theo thứ tự giảm dần=  ['Television', 'Speakers', 'Mobile', 'Laptop Case', 'Laptop', 'Camera Lens', 'Camera']\n"
     ]
    }
   ],
   "source": [
    "# Sắp xếp list chứa chuỗi\n",
    "text.sort()\n",
    "print(\"List chứa chuỗi theo thứ tự tăng dần= \", text)\n",
    "text.sort(reverse=True)\n",
    "print(\"List chứa chuỗi theo thứ tự giảm dần= \", text)"
   ]
  },
  {
   "cell_type": "code",
   "execution_count": 6,
   "id": "161e640b",
   "metadata": {},
   "outputs": [
    {
     "name": "stdout",
     "output_type": "stream",
     "text": [
      "List chứa số theo thứ tự tăng dần=  [27.0, 100, 310.28, 1000]\n",
      "List chứa số theo thứ tự giảm dần=  [1000, 310.28, 100, 27.0]\n"
     ]
    }
   ],
   "source": [
    "# Sắp xếp list chứa số\n",
    "numbers.sort()\n",
    "print(\"List chứa số theo thứ tự tăng dần= \", numbers)\n",
    "numbers.sort(reverse=True)\n",
    "print(\"List chứa số theo thứ tự giảm dần= \", numbers)"
   ]
  }
 ],
 "metadata": {
  "kernelspec": {
   "display_name": "Python 3 (ipykernel)",
   "language": "python",
   "name": "python3"
  },
  "language_info": {
   "codemirror_mode": {
    "name": "ipython",
    "version": 3
   },
   "file_extension": ".py",
   "mimetype": "text/x-python",
   "name": "python",
   "nbconvert_exporter": "python",
   "pygments_lexer": "ipython3",
   "version": "3.9.6"
  }
 },
 "nbformat": 4,
 "nbformat_minor": 5
}
