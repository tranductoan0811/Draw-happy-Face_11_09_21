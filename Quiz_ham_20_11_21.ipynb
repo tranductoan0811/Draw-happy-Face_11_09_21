{
 "cells": [
  {
   "cell_type": "code",
   "execution_count": 7,
   "id": "e9c9463b",
   "metadata": {},
   "outputs": [
    {
     "name": "stdout",
     "output_type": "stream",
     "text": [
      "9 18 3\n"
     ]
    }
   ],
   "source": [
    "def cal(a, b=3):\n",
    "\n",
    "    tong = a + b\n",
    "\n",
    "    sub = a - b\n",
    "\n",
    "    mul = a * b\n",
    "\n",
    "    return tong, sub, mul\n",
    "\n",
    "tong, sub, mul = cal(6)\n",
    "\n",
    "print(tong, mul, sub)"
   ]
  }
 ],
 "metadata": {
  "kernelspec": {
   "display_name": "Python 3 (ipykernel)",
   "language": "python",
   "name": "python3"
  },
  "language_info": {
   "codemirror_mode": {
    "name": "ipython",
    "version": 3
   },
   "file_extension": ".py",
   "mimetype": "text/x-python",
   "name": "python",
   "nbconvert_exporter": "python",
   "pygments_lexer": "ipython3",
   "version": "3.9.6"
  }
 },
 "nbformat": 4,
 "nbformat_minor": 5
}
