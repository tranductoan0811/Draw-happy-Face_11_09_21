{
 "cells": [
  {
   "cell_type": "code",
   "execution_count": null,
   "id": "8828b20e",
   "metadata": {},
   "outputs": [],
   "source": [
    "# Iterator là một đối tượng được sử dụng \n",
    "# để lặp qua các đối tượng chứa nhiều giá trị như list, tuple, dict và set"
   ]
  },
  {
   "cell_type": "code",
   "execution_count": 1,
   "id": "77093457",
   "metadata": {
    "scrolled": true
   },
   "outputs": [
    {
     "name": "stdout",
     "output_type": "stream",
     "text": [
      "apple\n",
      "banana\n",
      "cherry\n"
     ]
    }
   ],
   "source": [
    "mytuple = (\"apple\", \"banana\", \"cherry\")\n",
    "for x in mytuple:\n",
    "    print(x)"
   ]
  },
  {
   "cell_type": "code",
   "execution_count": null,
   "id": "cee607e0",
   "metadata": {},
   "outputs": [],
   "source": [
    "\"\"\"\n",
    "Khi chúng ta đã biết iterable và iterator là gì và cách sử dụng chúng, \n",
    "thì chúng ta có thể xác định một hàm lặp qua một đối tượng iterable mà không cần sử dụng vòng lặp for\n",
    "\n",
    "Tạo một danh sách có thể lặp qua\n",
    "Dùng phương thức iter để lấy ra iterator\n",
    "Vòng lặp sẽ bắt đầu khi ta dùng phương thức next\n",
    "Vòng lặp sẽ lặp qua tất cả các iterator, và sẽ dừng lại khi không còn phần tử nào để lặp qua, sẽ trả về StopIteration\n",
    "\"\"\""
   ]
  },
  {
   "cell_type": "code",
   "execution_count": 2,
   "id": "97c33da0",
   "metadata": {
    "scrolled": true
   },
   "outputs": [
    {
     "name": "stdout",
     "output_type": "stream",
     "text": [
      "4\n",
      "7\n",
      "0\n",
      "3\n"
     ]
    },
    {
     "ename": "StopIteration",
     "evalue": "",
     "output_type": "error",
     "traceback": [
      "\u001b[1;31m---------------------------------------------------------------------------\u001b[0m",
      "\u001b[1;31mStopIteration\u001b[0m                             Traceback (most recent call last)",
      "\u001b[1;32m~\\AppData\\Local\\Temp/ipykernel_4720/3475392980.py\u001b[0m in \u001b[0;36m<module>\u001b[1;34m\u001b[0m\n\u001b[0;32m      5\u001b[0m \u001b[0mprint\u001b[0m\u001b[1;33m(\u001b[0m\u001b[0mmy_iter\u001b[0m\u001b[1;33m.\u001b[0m\u001b[0m__next__\u001b[0m\u001b[1;33m(\u001b[0m\u001b[1;33m)\u001b[0m\u001b[1;33m)\u001b[0m\u001b[1;33m\u001b[0m\u001b[1;33m\u001b[0m\u001b[0m\n\u001b[0;32m      6\u001b[0m \u001b[0mprint\u001b[0m\u001b[1;33m(\u001b[0m\u001b[0mmy_iter\u001b[0m\u001b[1;33m.\u001b[0m\u001b[0m__next__\u001b[0m\u001b[1;33m(\u001b[0m\u001b[1;33m)\u001b[0m\u001b[1;33m)\u001b[0m\u001b[1;33m\u001b[0m\u001b[1;33m\u001b[0m\u001b[0m\n\u001b[1;32m----> 7\u001b[1;33m \u001b[0mnext\u001b[0m\u001b[1;33m(\u001b[0m\u001b[0mmy_iter\u001b[0m\u001b[1;33m)\u001b[0m\u001b[1;33m\u001b[0m\u001b[1;33m\u001b[0m\u001b[0m\n\u001b[0m",
      "\u001b[1;31mStopIteration\u001b[0m: "
     ]
    }
   ],
   "source": [
    "my_list = [4, 7, 0, 3]\n",
    "my_iter = iter(my_list)\n",
    "print(my_iter.__next__())\n",
    "print(my_iter.__next__())\n",
    "print(my_iter.__next__())\n",
    "print(my_iter.__next__())\n",
    "next(my_iter)"
   ]
  },
  {
   "cell_type": "code",
   "execution_count": 3,
   "id": "ce90afb1",
   "metadata": {
    "scrolled": true
   },
   "outputs": [
    {
     "name": "stdout",
     "output_type": "stream",
     "text": [
      "1\n",
      "2\n",
      "3\n",
      "4\n"
     ]
    }
   ],
   "source": [
    "# Các phương thức của đối tượng Iterator\n",
    "\"\"\"\n",
    "Phương thức __iter__() dùng để khởi tạo , và luôn phải trả về chính đối tượng của iterator\n",
    "Phương thức __next__() dùng để thực hiện thao tác lặp lại, và phải trả về phần tử kế tiếp trong danh sách\n",
    "\n",
    "\"\"\"\n",
    "# Tạo 1 vòng lặp trả về các số, bắt đầu bằng 1 và mỗi chuỗi sẽ tăng thêm 1\n",
    "class MyNumbers:\n",
    "    def __iter__(self):\n",
    "        self.a = 1\n",
    "        return self\n",
    "\n",
    "    def __next__(self):\n",
    "        x = self.a\n",
    "        self.a += 1\n",
    "        return x\n",
    "    \n",
    "myclass = MyNumbers()\n",
    "myiter = iter(myclass)\n",
    "\n",
    "print(next(myiter))\n",
    "print(next(myiter))\n",
    "print(next(myiter))\n",
    "print(next(myiter))"
   ]
  },
  {
   "cell_type": "code",
   "execution_count": 4,
   "id": "0bd425e3",
   "metadata": {},
   "outputs": [
    {
     "name": "stdout",
     "output_type": "stream",
     "text": [
      "2\n",
      "4\n",
      "6\n",
      "8\n",
      "None\n"
     ]
    }
   ],
   "source": [
    "# Để ngăn việc lặp đi lặp lại của vòng lặp, chúng ta thêm câu lệnh StopIteration để thoát khỏi chương trình lặp\n",
    "class MyNumbers:\n",
    "    def __iter__(self):\n",
    "        self.a = 2 \n",
    "        return self\n",
    " \n",
    "    def __next__(self):\n",
    "        x = self.a\n",
    "        self.a += 2 \n",
    "        if (self.a < 11):\n",
    "            return x\n",
    "        else:\n",
    "            StopIteration\n",
    "            \n",
    "mynumber = MyNumbers()\n",
    "inumber = iter(mynumber)\n",
    " \n",
    "print(next(inumber))\n",
    "print(next(inumber))\n",
    "print(next(inumber))\n",
    "print(next(inumber))\n",
    "print(next(inumber))"
   ]
  }
 ],
 "metadata": {
  "kernelspec": {
   "display_name": "Python 3 (ipykernel)",
   "language": "python",
   "name": "python3"
  },
  "language_info": {
   "codemirror_mode": {
    "name": "ipython",
    "version": 3
   },
   "file_extension": ".py",
   "mimetype": "text/x-python",
   "name": "python",
   "nbconvert_exporter": "python",
   "pygments_lexer": "ipython3",
   "version": "3.9.6"
  }
 },
 "nbformat": 4,
 "nbformat_minor": 5
}
