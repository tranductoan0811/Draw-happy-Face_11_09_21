{
 "cells": [
  {
   "cell_type": "code",
   "execution_count": 2,
   "id": "77b1b320",
   "metadata": {},
   "outputs": [
    {
     "name": "stdout",
     "output_type": "stream",
     "text": [
      "Nhập dãy chữ số: 2\n",
      "hai "
     ]
    }
   ],
   "source": [
    "# Nhập dãy chữ số từ người dùng\n",
    "numbers = input(\"Nhập dãy chữ số: \")\n",
    "# Khai báo tuples để lưu chữ từ không đến chín\n",
    "text = (\"không\", \"một\", \"hai\", \"ba\", \"bốn\", \"năm\", \"sáu\", \"bảy\", \"tám\", \"chín\")\n",
    "\n",
    "#  In kết quả ra dùng vòng lặp\n",
    "for num in numbers:\n",
    "      print(text[int(num)], end=' ')"
   ]
  }
 ],
 "metadata": {
  "kernelspec": {
   "display_name": "Python 3 (ipykernel)",
   "language": "python",
   "name": "python3"
  },
  "language_info": {
   "codemirror_mode": {
    "name": "ipython",
    "version": 3
   },
   "file_extension": ".py",
   "mimetype": "text/x-python",
   "name": "python",
   "nbconvert_exporter": "python",
   "pygments_lexer": "ipython3",
   "version": "3.9.6"
  }
 },
 "nbformat": 4,
 "nbformat_minor": 5
}
