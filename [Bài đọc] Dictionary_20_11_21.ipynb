{
 "cells": [
  {
   "cell_type": "code",
   "execution_count": 1,
   "id": "208c9c61",
   "metadata": {
    "scrolled": true
   },
   "outputs": [
    {
     "name": "stdout",
     "output_type": "stream",
     "text": [
      "\n",
      "Dictionary with the use of Integer Keys: \n",
      "{1: 'Geeks', 2: 'For', 3: 'Geeks'}\n",
      "\n",
      "Dictionary with the use of Mixed Keys: \n",
      "{'Name': 'Geeks', 1: [1, 2, 3, 4]}\n"
     ]
    }
   ],
   "source": [
    "#Tạo Dictionary với key là số nguyên\n",
    "Dict = {1: 'Geeks', 2: 'For', 3: 'Geeks'}\n",
    "print(\"\\nDictionary with the use of Integer Keys: \")\n",
    "print(Dict)\n",
    " \n",
    "# Tạo Dictionary với nhiều kiểu key\n",
    "Dict = {'Name': 'Geeks', 1: [1, 2, 3, 4]}\n",
    "print(\"\\nDictionary with the use of Mixed Keys: \")\n",
    "print(Dict)"
   ]
  },
  {
   "cell_type": "code",
   "execution_count": 2,
   "id": "85190ca8",
   "metadata": {},
   "outputs": [
    {
     "name": "stdout",
     "output_type": "stream",
     "text": [
      "Empty Dictionary: \n",
      "{}\n",
      "\n",
      "Dictionary with the use of dict(): \n",
      "{1: 'Geeks', 2: 'For', 3: 'Geeks'}\n"
     ]
    }
   ],
   "source": [
    "# Dictionary cũng có thể tạo từ phương thức khởi tạo (constructor) của lớp dict.\n",
    "# Tạo Dictionary trống\n",
    "Dict = {}\n",
    "print(\"Empty Dictionary: \")\n",
    "print(Dict)\n",
    " \n",
    "# Tạo Dictionary với dict\n",
    "Dict = dict({1: 'Geeks', 2: 'For', 3:'Geeks'})\n",
    "print(\"\\nDictionary with the use of dict(): \")\n",
    "print(Dict)"
   ]
  },
  {
   "cell_type": "code",
   "execution_count": 3,
   "id": "66b5faad",
   "metadata": {},
   "outputs": [
    {
     "name": "stdout",
     "output_type": "stream",
     "text": [
      "{'brand': 'Ford', 'year': 1964}\n"
     ]
    }
   ],
   "source": [
    "# xóa phần tử có thể dùng keyword del. \n",
    "this_dict = {\n",
    "  \"brand\": \"Ford\",\n",
    "  \"model\": \"Mustang\",\n",
    "  \"year\": 1964\n",
    "}\n",
    "del this_dict[\"model\"]\n",
    "print(this_dict)"
   ]
  },
  {
   "cell_type": "code",
   "execution_count": 10,
   "id": "7d0a83cd",
   "metadata": {},
   "outputs": [
    {
     "name": "stdout",
     "output_type": "stream",
     "text": [
      "{}\n"
     ]
    }
   ],
   "source": [
    "# Lưu ý: Keyword del có thể xóa hoàn toàn Dictionary\n",
    "new_dict = {\n",
    "  \"brand\": \"Ford\",\n",
    "  \"model\": \"Mustang\",\n",
    "  \"year\": 1964\n",
    "}\n",
    "\n",
    "new_dict.clear()\n",
    "print(new_dict)"
   ]
  },
  {
   "cell_type": "code",
   "execution_count": 11,
   "id": "25182ab6",
   "metadata": {},
   "outputs": [
    {
     "name": "stdout",
     "output_type": "stream",
     "text": [
      "John\n",
      "27\n",
      "Male\n"
     ]
    }
   ],
   "source": [
    "# Dictionary lồng nhau (Nested Dictionary)\n",
    "nested_dict = {'dictA': {'key_1': 'value_1'},\n",
    "               'dictB': {'key_2': 'value_2'}}\n",
    "\n",
    "# truy cập vào phần tử của Dictionary lồng nhau, ta sử dụng index []\n",
    "people = {1: {'name': 'John', 'age': '27', 'sex': 'Male'},\n",
    "          \t     2: {'name': 'Marie', 'age': '22', 'sex': 'Female'}}\n",
    "\n",
    "print(people[1]['name'])\n",
    "print(people[1]['age'])\n",
    "print(people[1]['sex'])\n"
   ]
  },
  {
   "cell_type": "code",
   "execution_count": 12,
   "id": "654ae486",
   "metadata": {},
   "outputs": [
    {
     "name": "stdout",
     "output_type": "stream",
     "text": [
      "{'name': 'Luna', 'age': '24', 'sex': 'Female', 'married': 'No'}\n"
     ]
    }
   ],
   "source": [
    "# Thêm phần tử vào Dictionary lồng nhau\n",
    "people = {1: {'name': 'John', 'age': '27', 'sex': 'Male'},\n",
    "          \t\t     2: {'name': 'Marie', 'age': '22', 'sex': 'Female'}}\n",
    "\n",
    "people[3] = {}\n",
    "\n",
    "people[3]['name'] = 'Luna'\n",
    "people[3]['age'] = '24'\n",
    "people[3]['sex'] = 'Female'\n",
    "people[3]['married'] = 'No'\n",
    "\n",
    "print(people[3])"
   ]
  },
  {
   "cell_type": "code",
   "execution_count": 13,
   "id": "15162c1e",
   "metadata": {},
   "outputs": [
    {
     "name": "stdout",
     "output_type": "stream",
     "text": [
      "{1: {'name': 'John', 'age': '27', 'sex': 'Male'}, 2: {'name': 'Marie', 'age': '22', 'sex': 'Female'}}\n"
     ]
    }
   ],
   "source": [
    "#Xóa phần tử trong Dictionary lồng nhau\n",
    "people = {1: {'name': 'John', 'age': '27', 'sex': 'Male'},\n",
    "       2: {'name': 'Marie', 'age': '22', 'sex': 'Female'},\n",
    "       3: {'name': 'Luna', 'age': '24', 'sex': 'Female'},\n",
    "       4: {'name': 'Peter', 'age': '29', 'sex': 'Male'},}\n",
    "\n",
    "del people[3], people[4]\n",
    "print(people)\n",
    "\"\"\"\n",
    "Lưu ý:\n",
    "\n",
    "Dictionary lồng nhau là danh sách dictionary không có thứ tự\n",
    "Có thể thu gọn, hoặc mở rộng Dictionary khi cần\n",
    "Dictionary lồng nhau cũng có cặp key & value, và truy cập bằng cách sử dụng key\n",
    "\n",
    "\"\"\""
   ]
  },
  {
   "cell_type": "code",
   "execution_count": 14,
   "id": "2af4a896",
   "metadata": {},
   "outputs": [
    {
     "name": "stdout",
     "output_type": "stream",
     "text": [
      "Banana\n",
      "Mango\n",
      "Apple\n",
      "Grapefruit\n",
      "Blackberry\n",
      "Sapodilla\n"
     ]
    }
   ],
   "source": [
    "# Lặp trong Dictionary\n",
    "\"\"\"\n",
    "Có nhiều cách để lặp qua 1 Dictionary trong Python\n",
    "\n",
    "Lặp qua các khóa (key)\n",
    "Lặp qua các giá trị (value)\n",
    "Lặp qua các cặp khóa và giá trị \n",
    "\"\"\"\n",
    "# Ví dụ: Lặp qua các khóa (key)\n",
    "fruitscolor = {\"Banana\" : \"Yellow\",\n",
    "\"Mango\" : \"Green\",\n",
    "\"Apple\" : \"Red\",\n",
    "\"Grapefruit\" : \"Pink\",\n",
    "\"Blackberry\" : \"Purple\",\n",
    "\"Sapodilla\" : \"Brown\"}\n",
    "\n",
    "# For loop to Iterating over key\n",
    "\n",
    "for key in fruitscolor:\n",
    " print (key)"
   ]
  },
  {
   "cell_type": "code",
   "execution_count": 15,
   "id": "4a901f40",
   "metadata": {},
   "outputs": [
    {
     "name": "stdout",
     "output_type": "stream",
     "text": [
      "Yellow\n",
      "Green\n",
      "Red\n",
      "Pink\n",
      "Purple\n",
      "Brown\n"
     ]
    }
   ],
   "source": [
    "# Ví dụ: Lặp qua các giá trị (value)\n",
    "fruitscolor = {\"Banana\" : \"Yellow\",\n",
    "\"Mango\" : \"Green\",\n",
    "\"Apple\" : \"Red\",\n",
    "\"Grapefruit\" : \"Pink\",\n",
    "\"Blackberry\" : \"Purple\",\n",
    "\"Sapodilla\" : \"Brown\"}\n",
    "\n",
    "# Using for loop Iterating over item and get value of item through value() function\n",
    "\n",
    "for color in fruitscolor.values():\n",
    "    print(color)\n"
   ]
  },
  {
   "cell_type": "code",
   "execution_count": 16,
   "id": "a7668834",
   "metadata": {},
   "outputs": [
    {
     "name": "stdout",
     "output_type": "stream",
     "text": [
      "Banana : Yellow\n",
      "Mango : Green\n",
      "Apple : Red\n",
      "Grapefruit : Pink\n",
      "Blackberry : Purple\n",
      "Sapodilla : Brown\n"
     ]
    }
   ],
   "source": [
    "# Ví dụ: Lặp qua các cặp khóa và giá trị \n",
    "fruitscolor = {\"Banana\" : \"Yellow\",\n",
    "\"Mango\" : \"Green\",\n",
    "\"Apple\" : \"Red\",\n",
    "\"Grapefruit\" : \"Pink\",\n",
    "\"Blackberry\" : \"Purple\",\n",
    "\"Sapodilla\" : \"Brown\"}\n",
    "\n",
    "# For loop to Iterating over key & value\n",
    "\n",
    "for fruit, color in fruitscolor.items():\n",
    " print(fruit, \":\", color)"
   ]
  }
 ],
 "metadata": {
  "kernelspec": {
   "display_name": "Python 3 (ipykernel)",
   "language": "python",
   "name": "python3"
  },
  "language_info": {
   "codemirror_mode": {
    "name": "ipython",
    "version": 3
   },
   "file_extension": ".py",
   "mimetype": "text/x-python",
   "name": "python",
   "nbconvert_exporter": "python",
   "pygments_lexer": "ipython3",
   "version": "3.9.6"
  }
 },
 "nbformat": 4,
 "nbformat_minor": 5
}
