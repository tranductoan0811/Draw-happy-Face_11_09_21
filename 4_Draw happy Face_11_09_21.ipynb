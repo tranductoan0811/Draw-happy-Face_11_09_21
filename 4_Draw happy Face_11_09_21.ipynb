{
 "cells": [
  {
   "cell_type": "code",
   "execution_count": 31,
   "id": "05a0c884",
   "metadata": {},
   "outputs": [],
   "source": [
    "import turtle\n",
    "#define background color\n",
    "turtle.bgcolor(\"#C2D4E6\")\n",
    "#define pencolor\n",
    "turtle.pencolor(\"#5D7790\")\n",
    "#for ouside circle\n",
    "facesize = 200\n",
    "turtle.penup()\n",
    "turtle.goto(0,-200)\n",
    "turtle.pendown()\n",
    "#define pensize\n",
    "turtle.pensize(6)\n",
    "turtle.circle(facesize)\n",
    "#for eyes\n",
    "turtle.fillcolor(\"#8BBAE8\")\n",
    "turtle.penup()\n",
    "turtle.goto(-100,50)\n",
    "turtle.pendown()\n",
    "turtle.pensize(3)\n",
    "# khai báo biến eyes size\n",
    "eye_size = 17.5\n",
    "turtle.begin_fill()\n",
    "turtle.circle(eye_size)\n",
    "turtle.end_fill()\n",
    "\n",
    "turtle.penup()\n",
    "turtle.goto(100,50)\n",
    "turtle.pendown()\n",
    "turtle.begin_fill()\n",
    "turtle.circle(eye_size)\n",
    "turtle.end_fill()\n",
    "\n",
    "#for nose (vẽ mũi)\n",
    "turtle.penup()\n",
    "turtle.goto(0,50)\n",
    "turtle.pendown()\n",
    "turtle.begin_fill()\n",
    "turtle.circle(-70,steps=3)\n",
    "turtle.end_fill()\n",
    "\n",
    "\n",
    "#draw half of mouth\n",
    "turtle.penup()\n",
    "turtle.goto(-100,-80)\n",
    "turtle.pendown()\n",
    "turtle.pensize(8)\n",
    "turtle.right(90)\n",
    "turtle.circle(100,180)\n",
    "turtle.mainloop()"
   ]
  },
  {
   "cell_type": "code",
   "execution_count": null,
   "id": "df3c0941",
   "metadata": {},
   "outputs": [],
   "source": []
  }
 ],
 "metadata": {
  "kernelspec": {
   "display_name": "Python 3 (ipykernel)",
   "language": "python",
   "name": "python3"
  },
  "language_info": {
   "codemirror_mode": {
    "name": "ipython",
    "version": 3
   },
   "file_extension": ".py",
   "mimetype": "text/x-python",
   "name": "python",
   "nbconvert_exporter": "python",
   "pygments_lexer": "ipython3",
   "version": "3.9.6"
  }
 },
 "nbformat": 4,
 "nbformat_minor": 5
}
