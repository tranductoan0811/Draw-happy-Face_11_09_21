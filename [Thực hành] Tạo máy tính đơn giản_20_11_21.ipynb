{
 "cells": [
  {
   "cell_type": "code",
   "execution_count": 2,
   "id": "74b1b86a",
   "metadata": {},
   "outputs": [
    {
     "name": "stdout",
     "output_type": "stream",
     "text": [
      "Enter first number: 2\n",
      "Enter second number: 3\n",
      "Enter the operation +, -, *, / :+\n",
      "2 + 3 = 5\n"
     ]
    }
   ],
   "source": [
    "# Tạo hàm thực hiện phép toán cộng (tạm gọi là add). \n",
    "# Hàm này sẽ nhận hai tham số là num1 và num2 và trả về giá trị num1 +  num2\n",
    "\n",
    "def add(num1, num2):\n",
    "    return num1 + num2\n",
    "\n",
    "# Tạo hàm thực hiện phép toán trừ (tạm gọi là subtract). \n",
    "# Hàm này sẽ nhận hai tham số là num1 và num2 và trả về giá trị num1 –  num2\n",
    "\n",
    "def subtract(num1, num2):\n",
    "    return num1 - num2\n",
    "\n",
    "# Bước 3: Tạo hàm thực hiện phép toán nhân (tạm gọi là multiply). \n",
    "# Hàm này sẽ nhận hai tham số là num1 và num2 và trả về giá trị num1 *  num2\n",
    "\n",
    "def multiply(num1, num2):\n",
    "    return num1 * num2\n",
    "# Bước 4: Tạo hàm thực hiện phép toán chia (tạm gọi là divide). \n",
    "#Hàm này sẽ nhận hai tham số là num1 và num2 và trả về giá trị num1 /  num2\n",
    "def divide(num1, num2):\n",
    "    return num1 / num2\n",
    "\n",
    "# Bước 5: Sử dụng hàm input() để người dùng \n",
    "# nhập hai số để thực hiện phép tính (tạm gọi hai số là number_1 và number_2), \n",
    "# sau đó sử dụng hàm int() chuyển giá trị về kiểu int.\n",
    "\n",
    "number_1 = int(input(\"Enter first number: \"))\n",
    "number_2 = int(input(\"Enter second number: \"))\n",
    "\n",
    "# Sử dụng hàm input() để người dùng nhập phép tính muốn thực hiện \n",
    "# (tạm gọi giá trị vừa nhập là option), \n",
    "# sau đó sử dụng hàm int() chuyển giá trị về kiểu int\n",
    "\n",
    "option = input(\"Enter the operation +, -, *, / :\")\n",
    "\n",
    "# Sử dụng hàm if…elif…else để quyết định hàm phép tính nào \n",
    "# sẽ được thực hiện dựa theo giá trị của biến select\n",
    "if option == '+':\n",
    "    print(number_1, \"+\", number_2, \"=\", add(number_1, number_2))\n",
    "  \n",
    "elif option == '-':\n",
    "    print(number_1, \"-\", number_2, \"=\", subtract(number_1, number_2))\n",
    "  \n",
    "elif option == '*':\n",
    "    print(number_1, \"*\", number_2, \"=\", multiply(number_1, number_2))\n",
    "  \n",
    "elif option == '/':\n",
    "    print(number_1, \"/\", number_2, \"=\", divide(number_1, number_2))\n",
    "    \n",
    "else:\n",
    "    print(\"Invalid input\")\n",
    "\n",
    "\n"
   ]
  }
 ],
 "metadata": {
  "kernelspec": {
   "display_name": "Python 3 (ipykernel)",
   "language": "python",
   "name": "python3"
  },
  "language_info": {
   "codemirror_mode": {
    "name": "ipython",
    "version": 3
   },
   "file_extension": ".py",
   "mimetype": "text/x-python",
   "name": "python",
   "nbconvert_exporter": "python",
   "pygments_lexer": "ipython3",
   "version": "3.9.6"
  }
 },
 "nbformat": 4,
 "nbformat_minor": 5
}
