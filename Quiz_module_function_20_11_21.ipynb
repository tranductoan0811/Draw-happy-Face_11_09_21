{
 "cells": [
  {
   "cell_type": "code",
   "execution_count": 1,
   "id": "61aa2474",
   "metadata": {},
   "outputs": [
    {
     "name": "stdout",
     "output_type": "stream",
     "text": [
      "15\n"
     ]
    }
   ],
   "source": [
    "def outerFun(a, b):\n",
    "\n",
    "    def innerFun(c, d):\n",
    "\n",
    "        return c + d\n",
    "\n",
    "    return innerFun(a, b)\n",
    "\n",
    "    return a\n",
    "\n",
    "result = outerFun(5, 10)\n",
    "\n",
    "print(result)"
   ]
  },
  {
   "cell_type": "code",
   "execution_count": 3,
   "id": "1f41be32",
   "metadata": {},
   "outputs": [
    {
     "name": "stdout",
     "output_type": "stream",
     "text": [
      "21\n"
     ]
    }
   ],
   "source": [
    "def some_thing(number1, number2):\n",
    "\n",
    "    first_value = number1 + 8\n",
    "\n",
    "    second_value = number2 - 5\n",
    "\n",
    "    return first_value\n",
    "\n",
    "print(some_thing(13, 10))"
   ]
  },
  {
   "cell_type": "code",
   "execution_count": 8,
   "id": "567e3d3a",
   "metadata": {},
   "outputs": [
    {
     "name": "stdout",
     "output_type": "stream",
     "text": [
      "10\n"
     ]
    }
   ],
   "source": [
    "def func(n):\n",
    "\n",
    "   if(n==1):\n",
    "\n",
    "      return 1\n",
    "\n",
    "   else:\n",
    "\n",
    "      return(n+func(n-1))\n",
    "\n",
    "print(func(4))"
   ]
  },
  {
   "cell_type": "code",
   "execution_count": 10,
   "id": "6cf47613",
   "metadata": {},
   "outputs": [
    {
     "name": "stdout",
     "output_type": "stream",
     "text": [
      "4 is maximum\n"
     ]
    }
   ],
   "source": [
    "def printMax(a, b):\n",
    "\n",
    "    if a > b:\n",
    "\n",
    "        print(a, \"is maximum\")\n",
    "\n",
    "    elif a == b:\n",
    "\n",
    "        print(a, \"is equal to\", b)\n",
    "\n",
    "    else:\n",
    "\n",
    "        print(b, \"is maximum\")\n",
    "\n",
    "printMax(3, 4)"
   ]
  },
  {
   "cell_type": "code",
   "execution_count": 11,
   "id": "c0fdf82d",
   "metadata": {},
   "outputs": [
    {
     "name": "stdout",
     "output_type": "stream",
     "text": [
      "19\n"
     ]
    }
   ],
   "source": [
    "x = 5\n",
    "\n",
    "def foo():\n",
    "\n",
    "    global x\n",
    "\n",
    "    x = 4\n",
    "\n",
    "def bar(a, b):\n",
    "\n",
    "    global x\n",
    "\n",
    "    return a + b + x\n",
    "\n",
    "foo()\n",
    "\n",
    "print(bar(7, 8))"
   ]
  }
 ],
 "metadata": {
  "kernelspec": {
   "display_name": "Python 3 (ipykernel)",
   "language": "python",
   "name": "python3"
  },
  "language_info": {
   "codemirror_mode": {
    "name": "ipython",
    "version": 3
   },
   "file_extension": ".py",
   "mimetype": "text/x-python",
   "name": "python",
   "nbconvert_exporter": "python",
   "pygments_lexer": "ipython3",
   "version": "3.9.6"
  }
 },
 "nbformat": 4,
 "nbformat_minor": 5
}
