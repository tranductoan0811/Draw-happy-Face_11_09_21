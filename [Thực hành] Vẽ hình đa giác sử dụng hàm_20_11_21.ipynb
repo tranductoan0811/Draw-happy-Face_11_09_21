{
 "cells": [
  {
   "cell_type": "code",
   "execution_count": 1,
   "id": "93aa707a",
   "metadata": {},
   "outputs": [],
   "source": [
    "# Import thư viện turtle\n",
    "import turtle\n",
    "\n",
    "# Tạo đối tượng turtle, biến này là biến global\n",
    "\n",
    "t = turtle.Turtle()\n",
    "t.hideturtle()\n",
    "t.pencolor('red')\n",
    "\n",
    "# Xây dựng hàm\n",
    "def draw(n, width=100):\n",
    "    \"\"\"Hàm vẽ hình đa giác đều\n",
    "    n - số cạnh của đa giác đều,\n",
    "    width - chiều dài của các cạnh\n",
    "    \"\"\"\n",
    "    # Giá trị mỗi góc của đa giác\n",
    "    angle = (n - 2) * 180 / n\n",
    "    for i in range(n):\n",
    "        t.forward(width)\n",
    "        t.right(180 - angle)\n",
    "\n",
    "    turtle.done()\n",
    "    \n",
    "# Gọi hàm\n",
    "draw(6, 150)"
   ]
  }
 ],
 "metadata": {
  "kernelspec": {
   "display_name": "Python 3 (ipykernel)",
   "language": "python",
   "name": "python3"
  },
  "language_info": {
   "codemirror_mode": {
    "name": "ipython",
    "version": 3
   },
   "file_extension": ".py",
   "mimetype": "text/x-python",
   "name": "python",
   "nbconvert_exporter": "python",
   "pygments_lexer": "ipython3",
   "version": "3.9.6"
  }
 },
 "nbformat": 4,
 "nbformat_minor": 5
}
