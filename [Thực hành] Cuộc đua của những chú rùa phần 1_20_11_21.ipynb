{
 "cells": [
  {
   "cell_type": "code",
   "execution_count": 1,
   "id": "a19f899c",
   "metadata": {},
   "outputs": [],
   "source": [
    "# Import các thư viện\n",
    "import turtle as t\n",
    "import random"
   ]
  },
  {
   "cell_type": "code",
   "execution_count": 2,
   "id": "5534881f",
   "metadata": {},
   "outputs": [],
   "source": [
    "# Vẽ các cột mốc và làn chạy như yêu cầu bài toán\n",
    "# Tạo khung cảnh và vẽ các cột mốc bên trái đường đua\n",
    "screen = t.Screen()\n",
    "screen.setup(height=500, width=600)\n",
    "pen = t.Turtle(visible=False)\n",
    "pen.penup()\n",
    "pen.speed(0)\n",
    "pen.goto(-250, 200)\n",
    "for i in range(21):\n",
    "    pen.write(i)\n",
    "    pen.forward(25)\n",
    "\n",
    "# Vẽ các đường đứt đoạn trên đường đua và\n",
    "# đánh dấu các cột mốc bên phải đường đua\n",
    "x = -250\n",
    "pen.goto(-250, 200)\n",
    "pen.right(90)\n",
    "for i in range(21):\n",
    "    for j in range(10):\n",
    "        pen.pendown()\n",
    "        pen.forward(20)\n",
    "        pen.penup()\n",
    "        pen.forward(10)\n",
    "    pen.penup()\n",
    "    pen.forward(5)\n",
    "    pen.write(i)\n",
    "    pen.goto(x + (i + 1) * 25, 200)"
   ]
  },
  {
   "cell_type": "code",
   "execution_count": 3,
   "id": "1284c6c0",
   "metadata": {},
   "outputs": [],
   "source": [
    "# Tạo các con rùa và cho rùa về vị trí xuất phát của làn chạy bên trái cùng\n",
    "all_turtles = []\n",
    "y_position = [160, 100, 40, -20]\n",
    "colors = ['red', 'green', 'blue', 'black']\n",
    "for turtle in range(0, 4):\n",
    "    turtles = t.Turtle(shape=\"turtle\")\n",
    "    turtles.penup()\n",
    "    # Di chuyển rùa về vị trí ban đầu,\n",
    "    # bên trái cùng của đường đua\n",
    "    turtles.goto(x=-250, y=y_position[turtle])\n",
    "    # Màu của rùa\n",
    "    turtles.color(colors[turtle])\n",
    "    for i in range(5):\n",
    "        turtles.left(72)\n",
    "    # Lưu vào list\n",
    "    all_turtles.append(turtles)"
   ]
  },
  {
   "cell_type": "code",
   "execution_count": 4,
   "id": "3e7d565e",
   "metadata": {},
   "outputs": [],
   "source": [
    "# Xây dựng hàm di chuyển về phía trước của các con rùa, các con rùa sẽ dừng chạy khi có 1 con cán đích đầu tiên\n",
    "def random_walk(turtles):\n",
    "    global run\n",
    "    for turtle in turtles:\n",
    "        turtle.forward(random.randint(1, 10))\n",
    "        # Kiểm tra điều kiện cán đích\n",
    "        # Khi 1 con cán đích thì dừng lại\n",
    "        if turtle.xcor() > 250:\n",
    "            run = False\n"
   ]
  },
  {
   "cell_type": "code",
   "execution_count": 5,
   "id": "a35686d8",
   "metadata": {},
   "outputs": [],
   "source": [
    "# Gọi hàm\n",
    "run = True\n",
    "while run:\n",
    "    random_walk(all_turtles)\n",
    "screen.exitonclick()"
   ]
  }
 ],
 "metadata": {
  "kernelspec": {
   "display_name": "Python 3 (ipykernel)",
   "language": "python",
   "name": "python3"
  },
  "language_info": {
   "codemirror_mode": {
    "name": "ipython",
    "version": 3
   },
   "file_extension": ".py",
   "mimetype": "text/x-python",
   "name": "python",
   "nbconvert_exporter": "python",
   "pygments_lexer": "ipython3",
   "version": "3.9.6"
  }
 },
 "nbformat": 4,
 "nbformat_minor": 5
}
