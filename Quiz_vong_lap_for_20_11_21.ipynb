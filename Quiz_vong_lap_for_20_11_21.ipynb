{
 "cells": [
  {
   "cell_type": "code",
   "execution_count": 1,
   "id": "a16e81dd",
   "metadata": {},
   "outputs": [
    {
     "name": "stdout",
     "output_type": "stream",
     "text": [
      "10 3\n",
      "11 2\n",
      "12 11\n",
      "13 2\n"
     ]
    }
   ],
   "source": [
    "for num in range(10, 14):\n",
    "\n",
    "   for i in range(2, num):\n",
    "\n",
    "       if num%i == 1:\n",
    "\n",
    "          print(num, i)\n",
    "\n",
    "          break"
   ]
  },
  {
   "cell_type": "code",
   "execution_count": 3,
   "id": "c050cb50",
   "metadata": {},
   "outputs": [
    {
     "name": "stdout",
     "output_type": "stream",
     "text": [
      "10 Chair\n",
      "10 Table\n",
      "20 Chair\n",
      "20 Table\n"
     ]
    }
   ],
   "source": [
    "numbers = [10, 20]\n",
    "\n",
    "items = [\"Chair\", \"Table\"]\n",
    "\n",
    "for x in numbers:\n",
    "\n",
    "  for y in items:\n",
    "\n",
    "    print(x, y)"
   ]
  },
  {
   "cell_type": "code",
   "execution_count": 4,
   "id": "db961d6f",
   "metadata": {
    "scrolled": true
   },
   "outputs": [
    {
     "name": "stdout",
     "output_type": "stream",
     "text": [
      "1\n",
      "2\n",
      "3\n",
      "4\n",
      "5\n",
      "6\n",
      "7\n",
      "8\n",
      "9\n",
      "10\n",
      "11\n",
      "12\n",
      "13\n",
      "14\n",
      "15\n",
      "16\n",
      "17\n",
      "18\n",
      "19\n",
      "20\n",
      "21\n",
      "22\n",
      "23\n",
      "24\n",
      "25\n",
      "26\n",
      "27\n",
      "28\n",
      "29\n",
      "30\n",
      "31\n",
      "32\n",
      "33\n",
      "34\n",
      "35\n",
      "36\n",
      "37\n",
      "38\n",
      "39\n",
      "40\n",
      "41\n",
      "42\n",
      "43\n",
      "44\n",
      "45\n",
      "46\n",
      "47\n",
      "48\n",
      "49\n",
      "50\n",
      "51\n",
      "52\n",
      "53\n",
      "54\n",
      "55\n",
      "56\n",
      "57\n",
      "58\n",
      "59\n",
      "60\n",
      "61\n",
      "62\n",
      "63\n",
      "64\n",
      "65\n",
      "66\n",
      "67\n",
      "68\n",
      "69\n",
      "70\n",
      "71\n",
      "72\n",
      "73\n",
      "74\n",
      "75\n",
      "76\n",
      "77\n",
      "78\n",
      "79\n",
      "80\n",
      "81\n",
      "82\n",
      "83\n",
      "84\n",
      "85\n",
      "86\n",
      "87\n",
      "88\n",
      "89\n",
      "90\n"
     ]
    }
   ],
   "source": [
    "x = 0\n",
    "\n",
    "for i in range(10):\n",
    "\n",
    "  for j in range(-1, -10, -1):\n",
    "\n",
    "    x += 1\n",
    "\n",
    "    print(x)"
   ]
  },
  {
   "cell_type": "code",
   "execution_count": 8,
   "id": "f503bdd5",
   "metadata": {},
   "outputs": [
    {
     "name": "stdout",
     "output_type": "stream",
     "text": [
      "J,h,o,n,"
     ]
    }
   ],
   "source": [
    "for l in \"Jhon\":\n",
    "\n",
    "   if l == \"o\":\n",
    "\n",
    "      pass\n",
    "\n",
    "   print(l, end=\",\")"
   ]
  },
  {
   "cell_type": "code",
   "execution_count": 12,
   "id": "c323fdea",
   "metadata": {},
   "outputs": [
    {
     "name": "stdout",
     "output_type": "stream",
     "text": [
      "['ab', 'cd']\n"
     ]
    }
   ],
   "source": [
    "x = [\"ab\", \"cd\"]\n",
    "\n",
    "for i in x:\n",
    "\n",
    "    i.upper()\n",
    "\n",
    "print(x)"
   ]
  },
  {
   "cell_type": "code",
   "execution_count": 15,
   "id": "22a5ef3a",
   "metadata": {},
   "outputs": [
    {
     "name": "stdout",
     "output_type": "stream",
     "text": [
      "0 1 2 3 4 "
     ]
    }
   ],
   "source": [
    "for i in range(10):\n",
    "\n",
    "    if i == 5:\n",
    "\n",
    "        break\n",
    "\n",
    "    else:\n",
    "\n",
    "        print(i, end=\" \")\n",
    "\n",
    "else:\n",
    "\n",
    "    print(\"Here\")"
   ]
  },
  {
   "cell_type": "code",
   "execution_count": 16,
   "id": "203265d1",
   "metadata": {},
   "outputs": [
    {
     "name": "stdout",
     "output_type": "stream",
     "text": [
      "0 1 2 3 4 6 Here\n"
     ]
    }
   ],
   "source": [
    "for i in range(7):\n",
    "\n",
    "    if i == 5:\n",
    "\n",
    "        continue\n",
    "\n",
    "    else:\n",
    "\n",
    "        print(i, end=\" \")\n",
    "\n",
    "else:\n",
    "\n",
    "    print(\"Here\")"
   ]
  },
  {
   "cell_type": "code",
   "execution_count": 17,
   "id": "cb9d2d04",
   "metadata": {},
   "outputs": [
    {
     "name": "stdout",
     "output_type": "stream",
     "text": [
      "0 1 2 3 "
     ]
    }
   ],
   "source": [
    "a = [0, 1, 2, 3]\n",
    "\n",
    "for a[0] in a:\n",
    "\n",
    "    print(a[0], end=\" \")"
   ]
  },
  {
   "cell_type": "code",
   "execution_count": 18,
   "id": "2d866ccc",
   "metadata": {},
   "outputs": [
    {
     "name": "stdout",
     "output_type": "stream",
     "text": [
      "Here\n"
     ]
    }
   ],
   "source": [
    "for x in range(4):\n",
    "\n",
    "  x+=1\n",
    "\n",
    "  if x % 2 == 0:\n",
    "\n",
    "      continue\n",
    "\n",
    "      print(x)\n",
    "\n",
    "      print(\"x\")\n",
    "\n",
    "else:\n",
    "\n",
    "    print(\"Here\")"
   ]
  },
  {
   "cell_type": "code",
   "execution_count": 19,
   "id": "c1fa2013",
   "metadata": {},
   "outputs": [
    {
     "name": "stdout",
     "output_type": "stream",
     "text": [
      "5\n"
     ]
    }
   ],
   "source": [
    "# Đầu ra của dòng code sau là gì :\n",
    "\n",
    "sum = 0\n",
    "\n",
    "values = [1,3,5,7]\n",
    "\n",
    "for number in values:\n",
    "\n",
    "    if number == 5:\n",
    "\n",
    "        pass\n",
    "\n",
    "        sum = sum + number\n",
    "\n",
    "print(sum)"
   ]
  }
 ],
 "metadata": {
  "kernelspec": {
   "display_name": "Python 3 (ipykernel)",
   "language": "python",
   "name": "python3"
  },
  "language_info": {
   "codemirror_mode": {
    "name": "ipython",
    "version": 3
   },
   "file_extension": ".py",
   "mimetype": "text/x-python",
   "name": "python",
   "nbconvert_exporter": "python",
   "pygments_lexer": "ipython3",
   "version": "3.9.6"
  }
 },
 "nbformat": 4,
 "nbformat_minor": 5
}
