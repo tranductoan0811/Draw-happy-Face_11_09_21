{
 "cells": [
  {
   "cell_type": "code",
   "execution_count": 3,
   "id": "c111ac72",
   "metadata": {},
   "outputs": [
    {
     "name": "stdout",
     "output_type": "stream",
     "text": [
      "Original list ['Orange', 'Apple', 'Grapes']\n",
      "Fruits outside function ['Orange', 'Apple', 'Grapes', 'Mango']\n"
     ]
    }
   ],
   "source": [
    "# Khai báo danh sách\n",
    "fruits = [\"Orange\", \"Apple\", \"Grapes\"]\n",
    "print(\"Original list\", fruits)\n",
    "# Tạo hàm để thực hiện việc thêm quả vào danh sách quả\n",
    "def add_fruit(fruits, fruit_to_add):    \n",
    "    fruits.append(fruit_to_add)    \n",
    "\n",
    "    \n",
    "# Khai báo quả mới với tên fruit_to_add với giá trị: ‘Mango’. \n",
    "# Gọi hàm add_fruit và truyền fruits và fruit_to_add vào làm tham số\n",
    "fruit_to_add = \"Mango\"\n",
    "add_fruit(fruits, fruit_to_add)\n",
    "\n",
    "# Dùng hàm print()  để hiển thị danh sách quả sau khi add\n",
    "print('List after add elements', fruits)"
   ]
  }
 ],
 "metadata": {
  "kernelspec": {
   "display_name": "Python 3 (ipykernel)",
   "language": "python",
   "name": "python3"
  },
  "language_info": {
   "codemirror_mode": {
    "name": "ipython",
    "version": 3
   },
   "file_extension": ".py",
   "mimetype": "text/x-python",
   "name": "python",
   "nbconvert_exporter": "python",
   "pygments_lexer": "ipython3",
   "version": "3.9.6"
  }
 },
 "nbformat": 4,
 "nbformat_minor": 5
}
