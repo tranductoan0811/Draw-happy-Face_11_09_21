{
 "cells": [
  {
   "cell_type": "code",
   "execution_count": 9,
   "id": "8bea8ff8",
   "metadata": {},
   "outputs": [],
   "source": [
    "# chương trình tìm giá trị nhỏ nhất trong mảng số cho trước\n",
    "\n",
    "def get_min_numbers(numbers):\n",
    "    # Khởi tạo biến result với giá trị khởi tạo ban đầu là phần tử đầu của numbers, \n",
    "    # biến này sẽ mang giá trị của phần tử nhỏ nhất\n",
    "    result = numbers[0]\n",
    "    for num in numbers:\n",
    "        if result > num:\n",
    "            result = num\n",
    "    return result"
   ]
  },
  {
   "cell_type": "code",
   "execution_count": 10,
   "id": "6dfcd825",
   "metadata": {},
   "outputs": [
    {
     "name": "stdout",
     "output_type": "stream",
     "text": [
      "Min number:  4\n"
     ]
    }
   ],
   "source": [
    "# Gọi hàm get_min_number đã viết ở bước 1 để tìm số nhỏ nhất \n",
    "# và gán vào biến min_number, sau đó dùng hàm print() để in ra kết quả\n",
    "range_input = [5, 4, 6]\n",
    "min_number = get_min_numbers(range_input)\n",
    "print(\"Min number: \", min_number)"
   ]
  }
 ],
 "metadata": {
  "kernelspec": {
   "display_name": "Python 3 (ipykernel)",
   "language": "python",
   "name": "python3"
  },
  "language_info": {
   "codemirror_mode": {
    "name": "ipython",
    "version": 3
   },
   "file_extension": ".py",
   "mimetype": "text/x-python",
   "name": "python",
   "nbconvert_exporter": "python",
   "pygments_lexer": "ipython3",
   "version": "3.9.6"
  }
 },
 "nbformat": 4,
 "nbformat_minor": 5
}
