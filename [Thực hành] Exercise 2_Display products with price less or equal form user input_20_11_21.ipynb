{
 "cells": [
  {
   "cell_type": "code",
   "execution_count": null,
   "id": "a74117a8",
   "metadata": {},
   "outputs": [],
   "source": [
    "# chương trình hiển thị các sản phẩm có giá bé hơn hoặc bằng so với giá tiền mà người dùng nhập (database đã được cho sẵn)"
   ]
  },
  {
   "cell_type": "code",
   "execution_count": 5,
   "id": "767c0717",
   "metadata": {},
   "outputs": [],
   "source": [
    "products = {\"gạo\":26000,\n",
    "               \"mắm\":30000,\n",
    "               \"Rau\":25000,\n",
    "               \"chuối\":78000,       \n",
    "}"
   ]
  },
  {
   "cell_type": "code",
   "execution_count": 6,
   "id": "1ae63bb0",
   "metadata": {},
   "outputs": [],
   "source": [
    "# Khai báo hàm in ra các sản phẩm có giá bé hơn hoặc bằng với tham số giá truyền vào\n",
    "def display_product(products_db, price):\n",
    "    for item in products_db:\n",
    "        if products_db[item] <= price:\n",
    "            print(item, \" : \",products_db[item])"
   ]
  },
  {
   "cell_type": "code",
   "execution_count": 7,
   "id": "8f7e31b5",
   "metadata": {},
   "outputs": [
    {
     "name": "stdout",
     "output_type": "stream",
     "text": [
      "Enter the price :30000\n"
     ]
    }
   ],
   "source": [
    "# Khai báo biến input_price, mang giá trị mức tiền mà người dùng nhập vào\n",
    "input_price = int(input(\"Enter the price :\"))"
   ]
  },
  {
   "cell_type": "code",
   "execution_count": 8,
   "id": "42f58ba3",
   "metadata": {},
   "outputs": [
    {
     "name": "stdout",
     "output_type": "stream",
     "text": [
      "gạo  :  26000\n",
      "mắm  :  30000\n",
      "Rau  :  25000\n"
     ]
    }
   ],
   "source": [
    "# In sản phẩm có giá bé hơn hoặc bằng mức giá mà người dùng nhập\n",
    "display_product(products, input_price)"
   ]
  }
 ],
 "metadata": {
  "kernelspec": {
   "display_name": "Python 3 (ipykernel)",
   "language": "python",
   "name": "python3"
  },
  "language_info": {
   "codemirror_mode": {
    "name": "ipython",
    "version": 3
   },
   "file_extension": ".py",
   "mimetype": "text/x-python",
   "name": "python",
   "nbconvert_exporter": "python",
   "pygments_lexer": "ipython3",
   "version": "3.9.6"
  }
 },
 "nbformat": 4,
 "nbformat_minor": 5
}
