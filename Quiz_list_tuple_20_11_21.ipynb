{
 "cells": [
  {
   "cell_type": "code",
   "execution_count": 2,
   "id": "ac8e2cad",
   "metadata": {
    "scrolled": true
   },
   "outputs": [
    {
     "name": "stdout",
     "output_type": "stream",
     "text": [
      "300\n"
     ]
    }
   ],
   "source": [
    "tuples = (100,)\n",
    "\n",
    "a = tuples[0]+200\n",
    "\n",
    "print(a)"
   ]
  },
  {
   "cell_type": "code",
   "execution_count": 7,
   "id": "9a2e270a",
   "metadata": {},
   "outputs": [
    {
     "name": "stdout",
     "output_type": "stream",
     "text": [
      "10=50\n"
     ]
    }
   ],
   "source": [
    "tuples = (10, 20, 30, 0)\n",
    "\n",
    "(a, *b, c) = tuples\n",
    "\n",
    "a = a + c\n",
    "\n",
    "c = b[0] + b[1]\n",
    "\n",
    "print(a, c, sep=\"=\")"
   ]
  },
  {
   "cell_type": "code",
   "execution_count": 12,
   "id": "83db7058",
   "metadata": {},
   "outputs": [
    {
     "name": "stdout",
     "output_type": "stream",
     "text": [
      "tuple after join: (10, 20, 30, 0, 'a', 'b')\n",
      "0a"
     ]
    }
   ],
   "source": [
    "tuples1 = (10, 20, 30, 0)\n",
    "\n",
    "tuples2 = (\"a\", \"b\")\n",
    "\n",
    "tuples3 = tuples1 + tuples2\n",
    "\n",
    "print(\"tuple after join:\", tuples3)\n",
    "a = tuples3[3:5]\n",
    "\n",
    "for i in a:\n",
    "\n",
    "    print(i, end=\"\")"
   ]
  }
 ],
 "metadata": {
  "kernelspec": {
   "display_name": "Python 3 (ipykernel)",
   "language": "python",
   "name": "python3"
  },
  "language_info": {
   "codemirror_mode": {
    "name": "ipython",
    "version": 3
   },
   "file_extension": ".py",
   "mimetype": "text/x-python",
   "name": "python",
   "nbconvert_exporter": "python",
   "pygments_lexer": "ipython3",
   "version": "3.9.6"
  }
 },
 "nbformat": 4,
 "nbformat_minor": 5
}
