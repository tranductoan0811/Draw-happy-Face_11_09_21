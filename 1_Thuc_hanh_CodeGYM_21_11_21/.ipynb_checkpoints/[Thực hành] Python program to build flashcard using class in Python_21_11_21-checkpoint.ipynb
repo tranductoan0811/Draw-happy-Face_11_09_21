{
 "cells": [
  {
   "cell_type": "code",
   "execution_count": null,
   "id": "3b89d87f",
   "metadata": {},
   "outputs": [],
   "source": [
    "\"\"\"\n",
    "Xây dựng lớp flashcard đơn giản. Khi chạy chương trình sẽ hiển thị 1 từ tiếng Việt, \n",
    "yêu cầu người dùng phải nhập vào từ tương ứng trong tiếng Anh. \n",
    "Chương trình sẽ tự đánh giá câu trả lời của người dùng đúng hoặc sa\n",
    "\"\"\""
   ]
  },
  {
   "cell_type": "code",
   "execution_count": 7,
   "id": "de986846",
   "metadata": {},
   "outputs": [],
   "source": [
    "# Import các thư viện\n",
    "import random"
   ]
  },
  {
   "cell_type": "code",
   "execution_count": 11,
   "id": "b730b925",
   "metadata": {},
   "outputs": [],
   "source": [
    "\"\"\"\n",
    "Xây dựng lớp flashcard với hàm khởi tạo, thuộc tính của lớp là một dictionary lưu giữ các cặp từ Việt-Anh. \n",
    "Dữ liệu của dictionary này càng nhiều thì khi chạy càng ít khả năng các cặp từ được lặp lại, chương trình càng thú vị\n",
    "\n",
    "\"\"\"\n",
    "class flashcard:\n",
    "    def __init__(self):\n",
    "\n",
    "        self.animals = {'Con ong': 'bee',\n",
    "                        'Con thỏ': 'rabbit',\n",
    "                        'Con cua': 'crab',\n",
    "                        'Con mèo': 'cat',\n",
    "                        'Con ngựa': 'horse',\n",
    "                        'Con khỉ': 'monkey',\n",
    "                        'Con lừa': 'donkey'}\n",
    "    \"\"\"\n",
    "Xây dựng các phương thức quiz của lớp, phương thức này đảm nhiệm chức năng chọn câu hỏi ngẫu nhiên, \n",
    "lấy câu trả lời của người dùng và kiểm tra tính chin xác của câu trả lời, đưa ra đáp án!\n",
    "\"\"\"\n",
    "    def quiz(self):\n",
    "        while True:\n",
    "\n",
    "            vietnamese, english = random.choice(list(self.animals.items()))\n",
    "\n",
    "            print(\"Tiếng Anh của '{}' là: \".format(vietnamese))\n",
    "            user_answer = input()\n",
    "\n",
    "            if user_answer.lower() == english:\n",
    "                print(\"Đúng\")\n",
    "            else:\n",
    "                print(\"Sai\")\n",
    "\n",
    "            option = int(input(\"Nhập 0 để tiếp tục : \"))\n",
    "            if option:\n",
    "                break\n",
    "            print(\"Kết thúc\")"
   ]
  },
  {
   "cell_type": "code",
   "execution_count": 12,
   "id": "fc1b0acd",
   "metadata": {},
   "outputs": [
    {
     "name": "stdout",
     "output_type": "stream",
     "text": [
      "Tiếng Anh của 'Con ong' là: \n",
      "bê\n",
      "Sai\n",
      "Nhập 0 để tiếp tục : bee\n"
     ]
    },
    {
     "ename": "ValueError",
     "evalue": "invalid literal for int() with base 10: 'bee'",
     "output_type": "error",
     "traceback": [
      "\u001b[1;31m---------------------------------------------------------------------------\u001b[0m",
      "\u001b[1;31mValueError\u001b[0m                                Traceback (most recent call last)",
      "\u001b[1;32mC:\\Users\\TRANDU~1\\AppData\\Local\\Temp/ipykernel_5324/437407946.py\u001b[0m in \u001b[0;36m<module>\u001b[1;34m\u001b[0m\n\u001b[0;32m      1\u001b[0m \u001b[1;31m# Tạo đối tượng của lớp, chạy chương trình và kiểm tra kết quả\u001b[0m\u001b[1;33m\u001b[0m\u001b[1;33m\u001b[0m\u001b[1;33m\u001b[0m\u001b[0m\n\u001b[0;32m      2\u001b[0m \u001b[0mfc\u001b[0m \u001b[1;33m=\u001b[0m \u001b[0mflashcard\u001b[0m\u001b[1;33m(\u001b[0m\u001b[1;33m)\u001b[0m\u001b[1;33m\u001b[0m\u001b[1;33m\u001b[0m\u001b[0m\n\u001b[1;32m----> 3\u001b[1;33m \u001b[0mfc\u001b[0m\u001b[1;33m.\u001b[0m\u001b[0mquiz\u001b[0m\u001b[1;33m(\u001b[0m\u001b[1;33m)\u001b[0m\u001b[1;33m\u001b[0m\u001b[1;33m\u001b[0m\u001b[0m\n\u001b[0m",
      "\u001b[1;32mC:\\Users\\TRANDU~1\\AppData\\Local\\Temp/ipykernel_5324/2041084072.py\u001b[0m in \u001b[0;36mquiz\u001b[1;34m(self)\u001b[0m\n\u001b[0;32m     31\u001b[0m                 \u001b[0mprint\u001b[0m\u001b[1;33m(\u001b[0m\u001b[1;34m\"Sai\"\u001b[0m\u001b[1;33m)\u001b[0m\u001b[1;33m\u001b[0m\u001b[1;33m\u001b[0m\u001b[0m\n\u001b[0;32m     32\u001b[0m \u001b[1;33m\u001b[0m\u001b[0m\n\u001b[1;32m---> 33\u001b[1;33m             \u001b[0moption\u001b[0m \u001b[1;33m=\u001b[0m \u001b[0mint\u001b[0m\u001b[1;33m(\u001b[0m\u001b[0minput\u001b[0m\u001b[1;33m(\u001b[0m\u001b[1;34m\"Nhập 0 để tiếp tục : \"\u001b[0m\u001b[1;33m)\u001b[0m\u001b[1;33m)\u001b[0m\u001b[1;33m\u001b[0m\u001b[1;33m\u001b[0m\u001b[0m\n\u001b[0m\u001b[0;32m     34\u001b[0m             \u001b[1;32mif\u001b[0m \u001b[0moption\u001b[0m\u001b[1;33m:\u001b[0m\u001b[1;33m\u001b[0m\u001b[1;33m\u001b[0m\u001b[0m\n\u001b[0;32m     35\u001b[0m                 \u001b[1;32mbreak\u001b[0m\u001b[1;33m\u001b[0m\u001b[1;33m\u001b[0m\u001b[0m\n",
      "\u001b[1;31mValueError\u001b[0m: invalid literal for int() with base 10: 'bee'"
     ]
    }
   ],
   "source": [
    "# Tạo đối tượng của lớp, chạy chương trình và kiểm tra kết quả\n",
    "fc = flashcard()\n",
    "fc.quiz()"
   ]
  }
 ],
 "metadata": {
  "kernelspec": {
   "display_name": "Python 3 (ipykernel)",
   "language": "python",
   "name": "python3"
  },
  "language_info": {
   "codemirror_mode": {
    "name": "ipython",
    "version": 3
   },
   "file_extension": ".py",
   "mimetype": "text/x-python",
   "name": "python",
   "nbconvert_exporter": "python",
   "pygments_lexer": "ipython3",
   "version": "3.9.6"
  }
 },
 "nbformat": 4,
 "nbformat_minor": 5
}
