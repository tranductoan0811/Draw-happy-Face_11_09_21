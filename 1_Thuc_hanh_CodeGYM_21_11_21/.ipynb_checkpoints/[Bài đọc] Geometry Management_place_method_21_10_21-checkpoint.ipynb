{
 "cells": [
  {
   "cell_type": "code",
   "execution_count": 4,
   "id": "f6ce05c5",
   "metadata": {},
   "outputs": [],
   "source": [
    "from tkinter import *\n",
    "\n",
    "login_window = Tk()  \n",
    "login_window.geometry(\"400x250\")\n",
    "login_window.title(\"Login\")\n",
    "\n",
    "username_lbl = Label(login_window, text = \"Username:\", font = ('arial 12 bold'), fg = 'red').place(x = 10,y = 50)  \n",
    "email_lbl = Label(login_window, text = \"Email:\", font = ('arial 10')).place(x = 10, y = 90)  \n",
    "password_lbl = Label(login_window, text = \"Password:\", font = ('arial 10')).place(x = 10, y = 130)\n",
    "\n",
    "username_ent = Entry(login_window).place(x = 100, y = 50)  \n",
    "email_ent = Entry(login_window).place(x = 100, y = 90)  \n",
    "password_ent = Entry(login_window).place(x = 100, y = 130)\n",
    "\n",
    "login_window.mainloop() "
   ]
  }
 ],
 "metadata": {
  "kernelspec": {
   "display_name": "Python 3 (ipykernel)",
   "language": "python",
   "name": "python3"
  },
  "language_info": {
   "codemirror_mode": {
    "name": "ipython",
    "version": 3
   },
   "file_extension": ".py",
   "mimetype": "text/x-python",
   "name": "python",
   "nbconvert_exporter": "python",
   "pygments_lexer": "ipython3",
   "version": "3.9.6"
  }
 },
 "nbformat": 4,
 "nbformat_minor": 5
}
