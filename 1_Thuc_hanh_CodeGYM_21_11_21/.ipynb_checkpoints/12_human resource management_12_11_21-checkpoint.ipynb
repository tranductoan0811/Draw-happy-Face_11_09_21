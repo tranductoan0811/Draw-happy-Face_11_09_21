{
 "cells": [
  {
   "cell_type": "code",
   "execution_count": 172,
   "id": "934546f0",
   "metadata": {},
   "outputs": [],
   "source": [
    "# Import Module\n",
    "from tkinter import *\n",
    "import tkinter as tk\n",
    "from tkinter import ttk"
   ]
  },
  {
   "cell_type": "code",
   "execution_count": 173,
   "id": "e7db9ed6",
   "metadata": {},
   "outputs": [],
   "source": [
    "# Khởi tạo biến, nơi lưu danh sách các địa chỉ (tạm gọi là data ), giá trị ban đầu sẽ là rỗng\n",
    "data = []"
   ]
  },
  {
   "cell_type": "code",
   "execution_count": 174,
   "id": "5402b1e8",
   "metadata": {},
   "outputs": [
    {
     "data": {
      "text/plain": [
       "''"
      ]
     },
     "execution_count": 174,
     "metadata": {},
     "output_type": "execute_result"
    }
   ],
   "source": [
    "window = tk.Tk()\n",
    "window.geometry(\"1000x600\")\n",
    "window.title(\"Human resource management\")"
   ]
  },
  {
   "cell_type": "code",
   "execution_count": 175,
   "id": "d17c6ac5",
   "metadata": {},
   "outputs": [],
   "source": [
    "# khai báo các biến\n",
    "mans = StringVar()\n",
    "tenns = StringVar()\n"
   ]
  },
  {
   "cell_type": "code",
   "execution_count": 176,
   "id": "1e51fc75",
   "metadata": {},
   "outputs": [],
   "source": [
    "# Update Information. Khởi tạo hàm cập nhật datas bên ngoài GUI\n",
    "def update_data():\n",
    "    select.delete(0,END)\n",
    "    for ma, hoten, ngaysinh, diachi, ngaybdlv, mapban, lcb in data:\n",
    "        select.insert(END, n)\n",
    "\"\"\"\n",
    "Biến select chính là đại diện cho danh sách data nhập vào trên GUI, \n",
    "được khai báo bằng widget select ở bên dưới hàm\n",
    "Trước khi cập nhật danh sách mới, cần sử dụng hàm delete(start, end) để xoá những items cũ \n",
    "Dùng for…in để tiến hành tạo vòng lặp lặp qua danh sach địa chỉ datas\n",
    "Qua mỗi vòng lặp, sử dụng hàm insert(end, row) để thực hiện việc thêm data (là giá trị lặp hiện tại)\n",
    "vào biến select.\n",
    "\n",
    "\"\"\"    \n",
    "# Khởi tạo hàm thêm dữ liệu vào data\n",
    "\n",
    "def add():\n",
    "    global data\n",
    "    data.append([mans.get(),tenns.get(),ngaysinh_ent.get(),que_txt.get(1.0,END),ngaybdlv_entry.get(), mapban_cb.get(),lcb_entry.get()])\n",
    "    update_data()\n"
   ]
  },
  {
   "cell_type": "code",
   "execution_count": 177,
   "id": "afd076e8",
   "metadata": {},
   "outputs": [],
   "source": [
    "def Close():\n",
    "    window.destroy()\n",
    "    \n",
    "def reset():\n",
    "    mans.set('')\n",
    "    tenns.set('')\n",
    "    ngaysinh_ent.delete(0, \"end\")\n",
    "    que_txt.delete(1.0,\"end\")\n",
    "    ngaybdlv_entry.delete(0, END)\n",
    "    mapban_cb.delete(0, END)\n",
    "    lcb_entry.delete(0, END)\n",
    "\n",
    "# Tạo hàm thực hiện việc xoá các dữ liệu đang xuất hiện trên GUI\n",
    "def delete():\n",
    "    del data[int(select.curselection()[0])]\n",
    "    update_data()\n"
   ]
  },
  {
   "cell_type": "code",
   "execution_count": 178,
   "id": "28277aba",
   "metadata": {},
   "outputs": [],
   "source": [
    "mans_lbl = Label(window, text = \"Mã nhân sự\", font=('arial 12'))\n",
    "mans_entry = Entry(window, textvariable = mans, font=('arial 16 bold'), fg = 'red')\n",
    "\n",
    "nsname_lbl = Label(window, text = \"Họ tên nhân sự\", font=('arial 12'))\n",
    "ns_entry = Entry(window, textvariable = tenns, font=('arial 15'))\n",
    "\n",
    "ngaysinh_lbl = Label(window, text = \"Ngày sinh\", font=('arial 12'))\n",
    "ngaysinh_ent = Entry(window, font=('arial 15'))\n",
    "\n",
    "que_lbl = Label(window, text = \"Quê quán\", font=('arial 12'))\n",
    "que_txt = Text(window, font=('arial 12'))\n",
    "\n",
    "ngaybdlv_lbl = Label(window, text = \"Ngày bắt đầu LV\", font=('arial 12'))\n",
    "ngaybdlv_entry = Entry(window, font=('arial 15'))\n",
    "\n",
    "mapban_lbl = Label(window, text = \"Mã Phòng ban\", font=('arial 12'))\n",
    "\n",
    "ma_pban = (\"P_NS\", \"P_ktoan\", \"P_VChuyen\", \"P_ky_thuat\")\n",
    "\n",
    "select_mapban = tk.StringVar()\n",
    "mapban_cb = ttk.Combobox(window, textvariable = select_mapban, font =('arial 12'))\n",
    "mapban_cb[\"values\"] = ma_pban\n",
    "\n",
    "lcb_lbl = Label(window, text = \"Lương CB h.nay\", font=('arial 12'))\n",
    "lcb_entry = Entry(window, font=('arial 16 bold'))\n",
    "\n",
    "add_btn = Button(window, text = \"reset\", font=('arial 13 bold'), command = reset)\n",
    "modify_btn = Button(window, text = \"chỉnh sửa\", fg= 'blue', font = ('arial 13 bold'))\n",
    "delelte_btn = Button(window, text = \"xóa\", fg = 'red', font=('arial 14 bold'),command=delete)\n",
    "save_btn = Button(window, text = \"Save\", fg = 'blue', font=('arial 13 bold'), command = add)\n",
    "\n",
    "timkiem_entry = Entry(window, font=('arial 15'))\n",
    "timkiem_btn = Button(window, text = \"Tìm NS theo tên / mã PBan\", font=('arial 13'))\n",
    "\n",
    "listbox_search = Listbox(window, height = 20, \n",
    "                  width = 41, \n",
    "                  bg = \"#B0D1E1\",\n",
    "                  font = \"black\",\n",
    "                  fg = \"yellow\")\n",
    "\n",
    "exit_btn = Button(window, text = \"Exit\", bg='#0052cc', fg='#ffffff', font = ('Helvetica 14 bold'),command = Close)\n",
    "\n"
   ]
  },
  {
   "cell_type": "code",
   "execution_count": 179,
   "id": "d205c7db",
   "metadata": {},
   "outputs": [],
   "source": [
    "mans_lbl.place(x= 10, y = 10)\n",
    "mans_entry.place(x = 150, y = 10, width = 230, height = 30)\n",
    "\n",
    "nsname_lbl.place(x= 10, y = 50)\n",
    "ns_entry.place(x = 150, y = 50, width = 230, height = 30)\n",
    "\n",
    "ngaysinh_lbl.place(x = 10, y = 90)\n",
    "ngaysinh_ent.place(x = 150, y = 90, width = 150, height = 30)\n",
    "\n",
    "que_lbl.place(x = 10, y = 130)\n",
    "que_txt.place(x = 150, y = 130, width = 320, height = 30)\n",
    "\n",
    "ngaybdlv_lbl.place(x = 10, y = 170)\n",
    "ngaybdlv_entry.place(x = 150, y = 170, width = 150, height = 30)\n",
    "\n",
    "mapban_lbl.place(x = 10, y = 210)\n",
    "mapban_cb.place(x = 150, y = 210, width = 150, height = 30)\n",
    "\n",
    "lcb_lbl.place(x = 10, y = 250)\n",
    "lcb_entry.place(x = 150, y = 250,width = 150, height = 30)\n",
    "\n",
    "add_btn.place(x = 10, y = 300, width = 100, height = 30)\n",
    "modify_btn.place(x = 10, y = 340, width = 100, height = 30)\n",
    "delelte_btn.place(x = 200, y = 300, width = 100, height = 30)\n",
    "save_btn.place(x = 200, y = 340, width = 100, height = 30)\n",
    "\n",
    "timkiem_entry.place(x = 500, y = 10, width = 150, height = 30)\n",
    "timkiem_btn.place(x = 660, y = 7)\n",
    "listbox_search.place(x = 500, y = 40)\n",
    "\n",
    "exit_btn.place(x = 350, y = 340, width = 100, height = 30)\n",
    "# để chuyển code sang text, nhấn ctrl + ?\n"
   ]
  },
  {
   "cell_type": "code",
   "execution_count": null,
   "id": "6d5b6a64",
   "metadata": {},
   "outputs": [],
   "source": []
  },
  {
   "cell_type": "code",
   "execution_count": 180,
   "id": "97e7768d",
   "metadata": {},
   "outputs": [],
   "source": [
    "window.mainloop()"
   ]
  },
  {
   "cell_type": "code",
   "execution_count": null,
   "id": "ded45141",
   "metadata": {},
   "outputs": [],
   "source": []
  }
 ],
 "metadata": {
  "kernelspec": {
   "display_name": "Python 3 (ipykernel)",
   "language": "python",
   "name": "python3"
  },
  "language_info": {
   "codemirror_mode": {
    "name": "ipython",
    "version": 3
   },
   "file_extension": ".py",
   "mimetype": "text/x-python",
   "name": "python",
   "nbconvert_exporter": "python",
   "pygments_lexer": "ipython3",
   "version": "3.9.6"
  }
 },
 "nbformat": 4,
 "nbformat_minor": 5
}
