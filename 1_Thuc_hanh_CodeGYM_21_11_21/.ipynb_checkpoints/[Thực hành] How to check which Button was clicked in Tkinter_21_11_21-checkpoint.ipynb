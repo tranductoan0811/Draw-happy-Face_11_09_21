{
 "cells": [
  {
   "cell_type": "code",
   "execution_count": null,
   "id": "c31a4f3b",
   "metadata": {},
   "outputs": [],
   "source": [
    "# Viết chương trình cho phép người dùng kiểm tra nút trong Tkinter GUI đã được click hay chưa"
   ]
  },
  {
   "cell_type": "code",
   "execution_count": 4,
   "id": "9aece63d",
   "metadata": {},
   "outputs": [
    {
     "name": "stdout",
     "output_type": "stream",
     "text": [
      "It is an apple\n",
      "It is an banana\n"
     ]
    }
   ],
   "source": [
    "# import thư viện Tkinter\n",
    "from tkinter import *\n",
    "\n",
    "# Tạo hàm để thực hiện việc in một đoạn text thông báo button Apple đã được click\n",
    "def apple_button_click():\n",
    "    print(\"It is an apple\")\n",
    "    \n",
    "# Tạo hàm để thực hiện việc in một đoạn text thông báo button Banana đã được click\n",
    "def banana_button_click():\n",
    "    print(\"It is an banana\")\n",
    "    \n",
    "# Tạo cửa sổ chính của ứng dụng GUI\n",
    "window = Tk()\n",
    "\n",
    "# Tạo các button\n",
    "b1 = Button(window, text=\"Apple\", command=apple_button_click)\n",
    "b1.grid(padx=10, pady=10)  \n",
    "\n",
    "b2 = Button(window, text=\"Banana\", command=banana_button_click)\n",
    "b2.grid(padx=10, pady=10)\n",
    "\n",
    "# Gọi vòng lặp sự kiện chính để các hành động có thể diễn ra trên màn hình máy tính của người dùng\n",
    "window.mainloop()"
   ]
  }
 ],
 "metadata": {
  "kernelspec": {
   "display_name": "Python 3 (ipykernel)",
   "language": "python",
   "name": "python3"
  },
  "language_info": {
   "codemirror_mode": {
    "name": "ipython",
    "version": 3
   },
   "file_extension": ".py",
   "mimetype": "text/x-python",
   "name": "python",
   "nbconvert_exporter": "python",
   "pygments_lexer": "ipython3",
   "version": "3.9.6"
  }
 },
 "nbformat": 4,
 "nbformat_minor": 5
}
