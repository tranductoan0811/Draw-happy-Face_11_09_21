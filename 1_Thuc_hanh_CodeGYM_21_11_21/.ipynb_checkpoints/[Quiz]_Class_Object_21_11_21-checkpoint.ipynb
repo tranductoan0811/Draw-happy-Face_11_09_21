{
 "cells": [
  {
   "cell_type": "code",
   "execution_count": 9,
   "id": "97ff0b0e",
   "metadata": {},
   "outputs": [
    {
     "name": "stdout",
     "output_type": "stream",
     "text": [
      "10\n"
     ]
    }
   ],
   "source": [
    "class Number:\n",
    "    num = 10\n",
    "\n",
    "    def __init__(self, num):\n",
    "\n",
    "        self.num = num+10\n",
    "\n",
    "        print(num)\n",
    "\n",
    "n = Number(10)"
   ]
  },
  {
   "cell_type": "code",
   "execution_count": 10,
   "id": "73a5733c",
   "metadata": {},
   "outputs": [
    {
     "name": "stdout",
     "output_type": "stream",
     "text": [
      "20"
     ]
    }
   ],
   "source": [
    "class Number:\n",
    "\n",
    "    num = 10\n",
    "\n",
    "    def __init__(self, num):\n",
    "\n",
    "        self.num = num\n",
    "\n",
    "        print(self.num, end=\"\")\n",
    "\n",
    "    def __del__(self):\n",
    "\n",
    "        print(self.num+1)\n",
    "\n",
    "n = Number(20)"
   ]
  },
  {
   "cell_type": "code",
   "execution_count": 12,
   "id": "4644a147",
   "metadata": {},
   "outputs": [
    {
     "name": "stdout",
     "output_type": "stream",
     "text": [
      "10 21\n",
      "21\n"
     ]
    }
   ],
   "source": [
    "class Number:\n",
    "\n",
    "    num = 20\n",
    "\n",
    "    def __init__(self, num=10):\n",
    "\n",
    "        self.num = num\n",
    "\n",
    "        print(num, end=\" \")\n",
    "\n",
    "    def __del__(self):\n",
    "\n",
    "        self.num = 21\n",
    "\n",
    "        print(self.num)\n",
    "\n",
    "n = Number()\n",
    "\n",
    "del n"
   ]
  },
  {
   "cell_type": "code",
   "execution_count": 16,
   "id": "c53a28d3",
   "metadata": {},
   "outputs": [
    {
     "name": "stdout",
     "output_type": "stream",
     "text": [
      "20\n"
     ]
    }
   ],
   "source": [
    "class Number:\n",
    "\n",
    "    num = 20\n",
    "\n",
    "    def __init__(self, num):\n",
    "\n",
    "        self.num = num\n",
    "\n",
    "        print(self.num)\n",
    "\n",
    "    def __init__(self):\n",
    "\n",
    "        print(self.num)\n",
    "\n",
    "n = Number()"
   ]
  }
 ],
 "metadata": {
  "kernelspec": {
   "display_name": "Python 3 (ipykernel)",
   "language": "python",
   "name": "python3"
  },
  "language_info": {
   "codemirror_mode": {
    "name": "ipython",
    "version": 3
   },
   "file_extension": ".py",
   "mimetype": "text/x-python",
   "name": "python",
   "nbconvert_exporter": "python",
   "pygments_lexer": "ipython3",
   "version": "3.9.6"
  }
 },
 "nbformat": 4,
 "nbformat_minor": 5
}
