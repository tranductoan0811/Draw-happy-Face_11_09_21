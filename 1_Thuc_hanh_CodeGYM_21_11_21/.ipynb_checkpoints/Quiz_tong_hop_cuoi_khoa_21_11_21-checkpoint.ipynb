{
 "cells": [
  {
   "cell_type": "code",
   "execution_count": 3,
   "id": "84df7fe1",
   "metadata": {
    "scrolled": true
   },
   "outputs": [
    {
     "name": "stdout",
     "output_type": "stream",
     "text": [
      "1\n",
      "2\n",
      "4\n"
     ]
    }
   ],
   "source": [
    "if \"bar\" in {\"foo\": 1, \"bar\": 2, \"baz\": 3}:\n",
    "\n",
    "    print(1)\n",
    "\n",
    "    print(2)\n",
    "\n",
    "    if \"a\" in \"qux\":\n",
    "\n",
    "        print(3)\n",
    "\n",
    "print(4)"
   ]
  },
  {
   "cell_type": "code",
   "execution_count": 4,
   "id": "89ed69a6",
   "metadata": {},
   "outputs": [
    {
     "name": "stdout",
     "output_type": "stream",
     "text": [
      "Tam giác thường\n"
     ]
    }
   ],
   "source": [
    "x = 5\n",
    "\n",
    "y = 7\n",
    "\n",
    "z = 10\n",
    "\n",
    "result = \"Tam giác đều\" if x == y == z else \"Tam giác cân\" if x==y or y==z or z==x else \"Tam giác thường\"\n",
    "print(result)"
   ]
  },
  {
   "cell_type": "code",
   "execution_count": 5,
   "id": "d45ff729",
   "metadata": {},
   "outputs": [
    {
     "name": "stdout",
     "output_type": "stream",
     "text": [
      "12 18\n"
     ]
    }
   ],
   "source": [
    "a = 12\n",
    "\n",
    "b = 15\n",
    "\n",
    "c = 18\n",
    "\n",
    "if a%2==0:\n",
    "\n",
    "    if b%c == 1:\n",
    "\n",
    "        c-=5\n",
    "\n",
    "        b+=12\n",
    "\n",
    "    if c%a == 6:\n",
    "\n",
    "        b-=13\n",
    "\n",
    "    else:\n",
    "\n",
    "        a=b=c=0\n",
    "\n",
    "print(a,c)"
   ]
  },
  {
   "cell_type": "code",
   "execution_count": 6,
   "id": "0ebc8c6e",
   "metadata": {},
   "outputs": [
    {
     "name": "stdout",
     "output_type": "stream",
     "text": [
      "914a\n"
     ]
    }
   ],
   "source": [
    "i = 0\n",
    "\n",
    "j = 20\n",
    "\n",
    "while True:\n",
    "\n",
    "    j -= 2\n",
    "\n",
    "    i += 3\n",
    "\n",
    "    if i >= j:\n",
    "\n",
    "        break\n",
    "\n",
    "    if j > 15:\n",
    "\n",
    "        continue\n",
    "\n",
    "    print(i, j, sep=\"\", end=\"\")\n",
    "\n",
    "else:\n",
    "\n",
    "    print(j, end=\"\")\n",
    "\n",
    "print(\"a\")"
   ]
  },
  {
   "cell_type": "code",
   "execution_count": 53,
   "id": "9db67099",
   "metadata": {},
   "outputs": [
    {
     "name": "stdout",
     "output_type": "stream",
     "text": [
      "10 3\n",
      "11 2\n",
      "12 11\n",
      "13 2\n"
     ]
    }
   ],
   "source": [
    "for num in range(10, 14):\n",
    "\n",
    "   for i in range(2, num):\n",
    "\n",
    "       if num%i == 1:\n",
    "\n",
    "          print(num, i)\n",
    "\n",
    "          break"
   ]
  },
  {
   "cell_type": "code",
   "execution_count": 24,
   "id": "9f197539",
   "metadata": {},
   "outputs": [
    {
     "name": "stdout",
     "output_type": "stream",
     "text": [
      "Here\n"
     ]
    }
   ],
   "source": [
    "for x in range(4):\n",
    "\n",
    "  x+=1\n",
    "\n",
    "  if x % 2 == 0:\n",
    "\n",
    "      continue\n",
    "\n",
    "      print(x)\n",
    "\n",
    "      print(\"x\")\n",
    "\n",
    "else:\n",
    "\n",
    "    print(\"Here\")"
   ]
  },
  {
   "cell_type": "code",
   "execution_count": 26,
   "id": "a8bb1387",
   "metadata": {},
   "outputs": [
    {
     "name": "stdout",
     "output_type": "stream",
     "text": [
      "9 18 3\n"
     ]
    }
   ],
   "source": [
    "def cal(a, b=3):\n",
    "\n",
    "    sum = a + b\n",
    "\n",
    "    sub = a - b\n",
    "\n",
    "    mul = a * b\n",
    "\n",
    "    return sum, sub, mul\n",
    "\n",
    "sum, sub, mul = cal(6)\n",
    "\n",
    "print(sum, mul, sub)"
   ]
  },
  {
   "cell_type": "code",
   "execution_count": 27,
   "id": "cf96ecb8",
   "metadata": {},
   "outputs": [
    {
     "name": "stdout",
     "output_type": "stream",
     "text": [
      "15\n"
     ]
    }
   ],
   "source": [
    "def outerFun(a, b):\n",
    "\n",
    "    def innerFun(c, d):\n",
    "\n",
    "        return c + d\n",
    "\n",
    "    return innerFun(a, b)\n",
    "\n",
    "    return a\n",
    "\n",
    " \n",
    "\n",
    "result = outerFun(5, 10)\n",
    "\n",
    "print(result)"
   ]
  },
  {
   "cell_type": "code",
   "execution_count": 34,
   "id": "d45b90e7",
   "metadata": {},
   "outputs": [
    {
     "name": "stdout",
     "output_type": "stream",
     "text": [
      "10=50\n"
     ]
    }
   ],
   "source": [
    "tuples = (10, 20, 30, 0)\n",
    "\n",
    "(a, *b, c) = tuples\n",
    "\n",
    "a = a + c\n",
    "\n",
    "c = b[0] + b[1]\n",
    "\n",
    "print(a, c, sep=\"=\")"
   ]
  },
  {
   "cell_type": "code",
   "execution_count": 36,
   "id": "8a10151d",
   "metadata": {},
   "outputs": [
    {
     "name": "stdout",
     "output_type": "stream",
     "text": [
      "{'Numbers': {1: 56, 3: 7}, 'Letters': {4: 'B'}}\n"
     ]
    }
   ],
   "source": [
    "numbers = {}\n",
    "\n",
    "letters = {}\n",
    "\n",
    "comb = {}\n",
    "\n",
    "numbers[1] = 56\n",
    "\n",
    "numbers[3] = 7\n",
    "\n",
    "letters[4] = 'B'\n",
    "\n",
    "comb['Numbers'] = numbers\n",
    "\n",
    "comb['Letters'] = letters\n",
    "\n",
    "print(comb)"
   ]
  },
  {
   "cell_type": "code",
   "execution_count": 38,
   "id": "17aa4494",
   "metadata": {},
   "outputs": [
    {
     "name": "stdout",
     "output_type": "stream",
     "text": [
      "10\n"
     ]
    }
   ],
   "source": [
    "class Number:\n",
    "\n",
    "    num = 10\n",
    "\n",
    "    def __init__(self, num):\n",
    "\n",
    "        self.num = num+10\n",
    "\n",
    "        print(num)\n",
    "\n",
    "n = Number(10)"
   ]
  },
  {
   "cell_type": "code",
   "execution_count": 41,
   "id": "05028cca",
   "metadata": {},
   "outputs": [
    {
     "name": "stdout",
     "output_type": "stream",
     "text": [
      "20=21\n"
     ]
    }
   ],
   "source": [
    "class Number:\n",
    "\n",
    "    num = 10\n",
    "\n",
    "    def __init__(self, num):\n",
    "\n",
    "        self.num = num\n",
    "\n",
    "        print(self.num, end=\"=\")\n",
    "\n",
    "    def __del__(self):\n",
    "\n",
    "        print(self.num+1)\n",
    "\n",
    "n = Number(20)"
   ]
  },
  {
   "cell_type": "code",
   "execution_count": 54,
   "id": "6c351769",
   "metadata": {
    "scrolled": true
   },
   "outputs": [
    {
     "name": "stdout",
     "output_type": "stream",
     "text": [
      "foo\n"
     ]
    }
   ],
   "source": [
    "if (1, 2):\n",
    "\n",
    "\n",
    "    print(\"foo\")"
   ]
  },
  {
   "cell_type": "code",
   "execution_count": 55,
   "id": "6357f211",
   "metadata": {
    "scrolled": true
   },
   "outputs": [
    {
     "name": "stdout",
     "output_type": "stream",
     "text": [
      "foo\n"
     ]
    }
   ],
   "source": [
    "if (1, 2): print('foo')"
   ]
  },
  {
   "cell_type": "code",
   "execution_count": 56,
   "id": "2a3beb02",
   "metadata": {},
   "outputs": [
    {
     "name": "stdout",
     "output_type": "stream",
     "text": [
      "foo\n"
     ]
    }
   ],
   "source": [
    " if (1, 2):                 print('foo')"
   ]
  },
  {
   "cell_type": "code",
   "execution_count": 57,
   "id": "926a836c",
   "metadata": {
    "scrolled": true
   },
   "outputs": [
    {
     "name": "stdout",
     "output_type": "stream",
     "text": [
      "foo\n"
     ]
    }
   ],
   "source": [
    "if (1, 2): print('foo')"
   ]
  },
  {
   "cell_type": "code",
   "execution_count": null,
   "id": "9bbc28ff",
   "metadata": {},
   "outputs": [],
   "source": [
    "i = 0\n",
    "\n",
    "j = 10\n",
    "\n",
    "while i + j < 20:\n",
    "\n",
    "    i += 3\n",
    "\n",
    "    j -= 1"
   ]
  },
  {
   "cell_type": "code",
   "execution_count": 48,
   "id": "cf4cdab4",
   "metadata": {},
   "outputs": [
    {
     "name": "stdout",
     "output_type": "stream",
     "text": [
      "J,h,o,n,"
     ]
    }
   ],
   "source": [
    "for l in \"Jhon\":\n",
    "\n",
    "   if l == \"o\":\n",
    "\n",
    "      pass\n",
    "\n",
    "   print(l, end=\",\")"
   ]
  },
  {
   "cell_type": "code",
   "execution_count": 52,
   "id": "b4943eee",
   "metadata": {},
   "outputs": [
    {
     "ename": "IndentationError",
     "evalue": "expected an indented block (Temp/ipykernel_2348/4064674246.py, line 5)",
     "output_type": "error",
     "traceback": [
      "\u001b[1;36m  File \u001b[1;32m\"C:\\Users\\TRANDU~1\\AppData\\Local\\Temp/ipykernel_2348/4064674246.py\"\u001b[1;36m, line \u001b[1;32m5\u001b[0m\n\u001b[1;33m    print('foo')\u001b[0m\n\u001b[1;37m    ^\u001b[0m\n\u001b[1;31mIndentationError\u001b[0m\u001b[1;31m:\u001b[0m expected an indented block\n"
     ]
    }
   ],
   "source": [
    "if (1, 2):\n",
    "\n",
    "\n",
    "\n",
    "print('foo')"
   ]
  }
 ],
 "metadata": {
  "kernelspec": {
   "display_name": "Python 3 (ipykernel)",
   "language": "python",
   "name": "python3"
  },
  "language_info": {
   "codemirror_mode": {
    "name": "ipython",
    "version": 3
   },
   "file_extension": ".py",
   "mimetype": "text/x-python",
   "name": "python",
   "nbconvert_exporter": "python",
   "pygments_lexer": "ipython3",
   "version": "3.9.6"
  }
 },
 "nbformat": 4,
 "nbformat_minor": 5
}
