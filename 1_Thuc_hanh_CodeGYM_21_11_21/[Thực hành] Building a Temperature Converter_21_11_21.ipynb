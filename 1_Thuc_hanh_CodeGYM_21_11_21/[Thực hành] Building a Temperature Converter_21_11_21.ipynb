{
 "cells": [
  {
   "cell_type": "code",
   "execution_count": 6,
   "id": "9fda04eb",
   "metadata": {},
   "outputs": [],
   "source": [
    "# chương trình cho phép người dùng nhập và chuyển đổi nhiệt độ từ  ℉ sang  ℃ "
   ]
  },
  {
   "cell_type": "code",
   "execution_count": 9,
   "id": "3bc904dc",
   "metadata": {},
   "outputs": [],
   "source": [
    "from tkinter import *\n",
    "\n",
    "# Tạo hàm thực hiện việc chuyển đổi nhiệt độ F sang C\n",
    "def fahrenheit_to_celsius():\n",
    "    fahrenheit = ent_temperature_fahrenheit.get()\n",
    "    celsius = 5/9 * (float(fahrenheit) - 32)\n",
    "    lbl_result_celsius[\"text\"] = f\"{round(celsius, 2)} \\N{DEGREE CELSIUS}\"\n",
    "\n",
    "# Tạo hàm thực hiện việc chuyển đổi nhiệt độ C sang F\n",
    "def celsius_to_fahrenheit ():\n",
    "    celsius = ent_temperature_celsius.get()\n",
    "    fahrenheit = 9/5 * float(celsius) + 32\n",
    "    lbl_result_fahrenheit[\"text\"] = f\"{round(fahrenheit, 2)} \\N{DEGREE FAHRENHEIT}\"\n",
    "\n",
    "# Tạo cửa sổ chính ứng dụng GUI\n",
    "\n",
    "window = Tk()\n",
    "window.title(\"Temperature Converter\")\n",
    "window.geometry(\"400x400\")\n",
    "\n",
    "# Tạo GUI vùng nhập nhiệt độ F\n",
    "frm_entry_fahrenheit = Frame(master=window)\n",
    "ent_temperature_fahrenheit = Entry(master=frm_entry_fahrenheit, width=10)\n",
    "lbl_temp_fahrenheit = Label(master=frm_entry_fahrenheit, text=\"\\N{DEGREE FAHRENHEIT}\")\n",
    "\n",
    "ent_temperature_fahrenheit.grid(row=0, column=0, sticky=\"e\")\n",
    "lbl_temp_fahrenheit.grid(row=0, column=1, sticky=\"w\")\n",
    "\n",
    "# widget Button() để tạo button thực hiện việc các gọi hàm chuyển đổi nhiệt độ F sang C\n",
    "btn_convert_fahrenheit = Button(\n",
    "    master=window,\n",
    "    text=\"\\N{RIGHTWARDS BLACK ARROW}\",\n",
    "    command=fahrenheit_to_celsius\n",
    ")\n",
    "\n",
    "# widget Label() để khai báo vùng chứa trả về kết quả sau khi chuyển đổi nhiệt độ F sang C\n",
    "\n",
    "lbl_result_celsius = Label(master=window, text=\"\\N{DEGREE CELSIUS}\")\n",
    "\n",
    "# Sử dụng phương thức grid() để sắp xếp lại các widget sau khi đã tạo\n",
    "\n",
    "frm_entry_fahrenheit.grid(row=0, column=0, padx=10)\n",
    "btn_convert_fahrenheit.grid(row=0, column=1, pady=10)\n",
    "lbl_result_celsius.grid(row=0, column=2, padx=10)\n",
    "\n",
    "# Tạo GUI vùng nhập nhiệt độ C\n",
    "\n",
    "frm_entry_celsius = Frame(master=window)\n",
    "ent_temperature_celsius = Entry(master=frm_entry_celsius, width=10)\n",
    "lbl_temp_celsius = Label(master=frm_entry_celsius, text=\"\\N{DEGREE CELSIUS}\")\n",
    "\n",
    "ent_temperature_celsius.grid(row=0, column=0, sticky=\"e\")\n",
    "lbl_temp_celsius.grid(row=0, column=1, sticky=\"w\")\n",
    "\n",
    "# Dùng widget Button() để tạo button thực hiện việc các gọi hàm chuyển đổi nhiệt độ C sang F\n",
    "btn_convert_celsius = Button(\n",
    "    master=window,\n",
    "    text=\"\\N{RIGHTWARDS BLACK ARROW}\",\n",
    "    command=celsius_to_fahrenheit\n",
    ")\n",
    "\n",
    "# Dùng widget Label() để khai báo vùng chứa trả về kết quả sau khi chuyển đổi nhiệt độ C sang F\n",
    "lbl_result_fahrenheit = Label(master=window, text=\"\\N{DEGREE FAHRENHEIT}\")\n",
    "\n",
    "# Sử dụng phương thức grid() để sắp xếp lại các widget sau khi đã tạo\n",
    "frm_entry_celsius.grid(row=1, column=0, padx=10)\n",
    "btn_convert_celsius.grid(row=1, column=1, pady=10)\n",
    "lbl_result_fahrenheit.grid(row=1, column=2, padx=10)\n"
   ]
  },
  {
   "cell_type": "code",
   "execution_count": 10,
   "id": "b06a1f94",
   "metadata": {},
   "outputs": [],
   "source": [
    "window.mainloop()"
   ]
  }
 ],
 "metadata": {
  "kernelspec": {
   "display_name": "Python 3 (ipykernel)",
   "language": "python",
   "name": "python3"
  },
  "language_info": {
   "codemirror_mode": {
    "name": "ipython",
    "version": 3
   },
   "file_extension": ".py",
   "mimetype": "text/x-python",
   "name": "python",
   "nbconvert_exporter": "python",
   "pygments_lexer": "ipython3",
   "version": "3.9.6"
  }
 },
 "nbformat": 4,
 "nbformat_minor": 5
}
