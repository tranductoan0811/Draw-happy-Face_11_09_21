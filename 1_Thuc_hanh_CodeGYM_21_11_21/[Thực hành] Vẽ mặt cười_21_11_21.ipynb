{
 "cells": [
  {
   "cell_type": "code",
   "execution_count": null,
   "id": "31a1180b",
   "metadata": {},
   "outputs": [],
   "source": [
    "# Thực hành Vẽ mặt cười"
   ]
  },
  {
   "cell_type": "code",
   "execution_count": 6,
   "id": "01f172e9",
   "metadata": {},
   "outputs": [],
   "source": [
    "# Import thư viện turtle\n",
    "import turtle"
   ]
  },
  {
   "cell_type": "code",
   "execution_count": 7,
   "id": "e4d0a5dc",
   "metadata": {},
   "outputs": [],
   "source": [
    "# Xác định kích thước bút vẽ và màu bút vẽ\n",
    "#define pen size\n",
    "turtle.pensize(5) \n",
    " \n",
    "#define pen color\n",
    "turtle.pencolor(\"Blue\") \n",
    "\n",
    "#Vẽ mặt hình tròn lớn bên ngoài\n",
    "#for outer bigger circle\n",
    "facesize = 200\n",
    "turtle.penup()\n",
    "turtle.goto(0, -200)\n",
    "turtle.pendown()\n",
    "turtle.circle(facesize)\n"
   ]
  },
  {
   "cell_type": "code",
   "execution_count": 9,
   "id": "8e2a7c9a",
   "metadata": {},
   "outputs": [],
   "source": [
    "# Vẽ mắt bằng hai hình tròn và tô màu đỏ tương ứng cho mắt\n",
    "#for eyes\n",
    "#Màu nền mắt là màu đỏ\n",
    "turtle.fillcolor (\"#81B9C6\")\n",
    "turtle.penup()\n",
    "turtle.goto(-100,50)\n",
    "turtle.pendown()\n",
    " \n",
    "# khai bao bien eyesize lưu kích thước mắt\n",
    "eye_size = 17.5\n",
    " \n",
    "turtle.begin_fill()\n",
    "turtle.circle(eye_size)\n",
    "turtle.end_fill()\n",
    "turtle.penup()\n",
    " \n",
    "turtle.goto(100,50)\n",
    "turtle.pendown()\n",
    "turtle.begin_fill()\n",
    "turtle.circle(eye_size)\n",
    "turtle.end_fill()"
   ]
  },
  {
   "cell_type": "code",
   "execution_count": 10,
   "id": "3bdcb249",
   "metadata": {},
   "outputs": [],
   "source": [
    "# Vẽ hình tam giác cho mũi\n",
    "#for nose\n",
    "turtle.penup ()\n",
    "turtle.goto(0,50)\n",
    "turtle.pendown()\n",
    "turtle.circle(-70, steps=3)"
   ]
  },
  {
   "cell_type": "code",
   "execution_count": 11,
   "id": "e78175b1",
   "metadata": {},
   "outputs": [],
   "source": [
    "turtle.done()"
   ]
  }
 ],
 "metadata": {
  "kernelspec": {
   "display_name": "Python 3 (ipykernel)",
   "language": "python",
   "name": "python3"
  },
  "language_info": {
   "codemirror_mode": {
    "name": "ipython",
    "version": 3
   },
   "file_extension": ".py",
   "mimetype": "text/x-python",
   "name": "python",
   "nbconvert_exporter": "python",
   "pygments_lexer": "ipython3",
   "version": "3.9.6"
  }
 },
 "nbformat": 4,
 "nbformat_minor": 5
}
