{
 "cells": [
  {
   "cell_type": "code",
   "execution_count": null,
   "id": "0b2c4819",
   "metadata": {},
   "outputs": [],
   "source": [
    "\"\"\"\n",
    "Import Tkinter module\n",
    "Tạo ra cửa số chính cho ứng dụng của GUI\n",
    "Thêm một số widget cho ứng dụng\n",
    "Tạo vòng lặp sự kiện chính để các hành động có thể diễn ra trên màn hình máy tính của người dùng.\n",
    "\"\"\""
   ]
  },
  {
   "cell_type": "code",
   "execution_count": 5,
   "id": "093db720",
   "metadata": {},
   "outputs": [],
   "source": [
    "# Ví dụ: Tạo text “Hello World !”\n",
    "#Khai báo module tkinter\n",
    "from tkinter import * \n",
    "from tkinter.ttk import *\n",
    "    \n",
    "# Tạo cửa sổ chính cho giao diện\n",
    "window = Tk()\n",
    "  \n",
    "# Đặt tiêu đề cho cửa sổ chính \n",
    "window.title(\"First_Program\")\n",
    "  \n",
    "# Tạo text “Hello World !” , đây là kết quả sẽ in ra\n",
    "label = Label(window, text = \"Hello World !\")\n",
    "label.pack()\n",
    "  \n",
    "# Sử dụng phương thức để cửa sổ chính giao diện hiển thị ra màn hình\n",
    "window.mainloop()"
   ]
  }
 ],
 "metadata": {
  "kernelspec": {
   "display_name": "Python 3 (ipykernel)",
   "language": "python",
   "name": "python3"
  },
  "language_info": {
   "codemirror_mode": {
    "name": "ipython",
    "version": 3
   },
   "file_extension": ".py",
   "mimetype": "text/x-python",
   "name": "python",
   "nbconvert_exporter": "python",
   "pygments_lexer": "ipython3",
   "version": "3.9.6"
  }
 },
 "nbformat": 4,
 "nbformat_minor": 5
}
