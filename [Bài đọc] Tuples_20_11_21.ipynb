{
 "cells": [
  {
   "cell_type": "code",
   "execution_count": 1,
   "id": "be5a16dd",
   "metadata": {},
   "outputs": [
    {
     "name": "stdout",
     "output_type": "stream",
     "text": [
      "Tuple =  ('PHP', 'Python', 'C#', 'Java', 'Android')\n"
     ]
    }
   ],
   "source": [
    "# Cách tạo tuple: Tuple được tạo sử dụng dấu ngoặc tròn để khai báo các phần tử của tuple.\n",
    "languages = (\"PHP\", \"Python\", \"C#\", \"Java\", \"Android\")\n",
    "\n",
    "print(\"Tuple = \", languages)\n",
    "\n",
    "# Chú ý: Khi tạo tuple với chỉ một phần tử, cần phải sử dụng dấu phẩy sau phần tử, \n",
    "# nếu không, biến khai báo không được coi là 1 tuple"
   ]
  },
  {
   "cell_type": "code",
   "execution_count": 2,
   "id": "90072d58",
   "metadata": {},
   "outputs": [
    {
     "name": "stdout",
     "output_type": "stream",
     "text": [
      "Kiểu dữ liệu =  <class 'tuple'>\n",
      "Kiểu dữ liệu =  <class 'str'>\n"
     ]
    }
   ],
   "source": [
    "# Khai báo tuple với 1 phần tử\n",
    "languages = (\"Python\",)\n",
    "print(\"Kiểu dữ liệu = \", type(languages))\n",
    "\n",
    "# Trong trường hợp này languages là\n",
    "# 1 string\n",
    "languages = (\"Python\")\n",
    "print(\"Kiểu dữ liệu = \", type(languages))"
   ]
  },
  {
   "cell_type": "code",
   "execution_count": 3,
   "id": "e80221f0",
   "metadata": {},
   "outputs": [
    {
     "name": "stdout",
     "output_type": "stream",
     "text": [
      "Tuple =  ('PHP', 'Python', 'C#', 'Java', 'Android')\n"
     ]
    }
   ],
   "source": [
    "# chúng ta có thể tạo tuple bằng cách sử dụng hàm khởi tạo (constructor) tuple như sau:\n",
    "languages = tuple((\"PHP\", \"Python\", \"C#\", \"Java\", \"Android\"))\n",
    "\n",
    "print(\"Tuple = \", languages)"
   ]
  },
  {
   "cell_type": "code",
   "execution_count": 4,
   "id": "0a3c4c2c",
   "metadata": {},
   "outputs": [
    {
     "name": "stdout",
     "output_type": "stream",
     "text": [
      "Tuple =  ('PHP', 'Python', 'C#', 'Java', 'Android')\n",
      "Phần tử thứ 2 của tuple =  Python\n",
      "Phần tử cuối cùng của tuple =  Android\n",
      "Phần tử thứ 2 đến phần tử thứ 4 của tuple ('Python', 'C#', 'Java')\n"
     ]
    }
   ],
   "source": [
    "# Truy xuất các phần tử của tuple: Tương tự như list, chỉ số được dùng để truy xuất các phần tử của tuple.\n",
    "\n",
    "languages = tuple((\"PHP\", \"Python\", \"C#\", \"Java\", \"Android\"))\n",
    "\n",
    "print(\"Tuple = \", languages)\n",
    "\n",
    "# Truy xuất đến phần tử thứ 2 của tuple\n",
    "print(\"Phần tử thứ 2 của tuple = \", languages[1])\n",
    "\n",
    "# Truy xuất đến phần tử cuối cùng của tuple\n",
    "# dùng chỉ số âm\n",
    "print(\"Phần tử cuối cùng của tuple = \", languages[-1])\n",
    "\n",
    "# Lấy nhiều phần tử của tuple dùng slicing\n",
    "print(\"Phần tử thứ 2 đến phần tử thứ 4 của tuple\", languages[1:4])"
   ]
  },
  {
   "cell_type": "code",
   "execution_count": 5,
   "id": "99a02dce",
   "metadata": {},
   "outputs": [
    {
     "name": "stdout",
     "output_type": "stream",
     "text": [
      "Tuple =  ('PHP', 'Python', 'C#', 'Java', 'Android')\n",
      "Tuple sau khi cập nhật =  ('C++', 'Python', 'Java', 'Android', 'Swift')\n"
     ]
    }
   ],
   "source": [
    "# Cập nhật các phần tử của tuple\n",
    "\"\"\"\n",
    "Sau khi tuple được tạo, các phần tử trong tuple là không thể thay đổi. \n",
    "Tuy nhiên, vẫn có cách để cập nhật (Thay đổi phần tử, thêm phần tử, xóa phần tử) trong tuple. \n",
    "Để làm được điều đó, đầu tiên tuple được chuyển đổi sang list, sau đó cập nhật list đó theo mong muốn. \n",
    "Cuối cùng lại chuyển đổi từ list đã cập nhật sang tuple. Xem ví dụ bên dưới:\n",
    "\"\"\"\n",
    "\n",
    "languages = tuple((\"PHP\", \"Python\", \"C#\", \"Java\", \"Android\"))\n",
    "\n",
    "print(\"Tuple = \", languages)\n",
    "\n",
    "# Chuyển đổi từ tuple sang list\n",
    "languages_list = list(languages)\n",
    "\n",
    "# Thêm phần tử trên list\n",
    "languages_list.append(\"Swift\")\n",
    "\n",
    "# Thay đổi phần tử thứ nhất\n",
    "languages_list[0] = \"C++\"\n",
    "\n",
    "# Xóa phần tử thứ 3\n",
    "languages_list.pop(2)\n",
    "\n",
    "# Chuyển đổi từ list sang tuple\n",
    "languages = tuple(languages_list)\n",
    "\n",
    "print(\"Tuple sau khi cập nhật = \", languages)\n"
   ]
  },
  {
   "cell_type": "code",
   "execution_count": 6,
   "id": "e88078ac",
   "metadata": {},
   "outputs": [
    {
     "name": "stdout",
     "output_type": "stream",
     "text": [
      "Tuple trước khi mở rộng ('PHP', 'Python', 'C#', 'Java', 'Android')\n",
      "Tuple sau khi mở rộng ('PHP', 'Python', 'C#', 'Java', 'Android', 'Swift')\n"
     ]
    }
   ],
   "source": [
    "# Mở rộng tuple bằng toán tử +: Ta có thể mở rộng tuple bằng cách thêm các phần tử của một tuple khác bằng toán tử +\n",
    "\n",
    "languages = tuple((\"PHP\", \"Python\", \"C#\", \"Java\", \"Android\"))\n",
    "\n",
    "print(\"Tuple trước khi mở rộng\", languages)\n",
    "languages2 = (\"Swift\", )\n",
    "\n",
    "languages = languages+languages2\n",
    "\n",
    "print(\"Tuple sau khi mở rộng\", languages)"
   ]
  },
  {
   "cell_type": "code",
   "execution_count": 7,
   "id": "58b29bff",
   "metadata": {},
   "outputs": [
    {
     "name": "stdout",
     "output_type": "stream",
     "text": [
      "Tuple trước khi * ('PHP', 'Python', 'C#', 'Java', 'Android')\n",
      "Tuple sau khi * ('PHP', 'Python', 'C#', 'Java', 'Android', 'PHP', 'Python', 'C#', 'Java', 'Android')\n"
     ]
    }
   ],
   "source": [
    "# Ngoài ra, toán tử * cũng được dùng để nhân tạo số lần các phần tử của tuple\n",
    "languages = tuple((\"PHP\", \"Python\", \"C#\", \"Java\", \"Android\"))\n",
    "\n",
    "print(\"Tuple trước khi *\", languages)\n",
    "\n",
    "languages = languages * 2\n",
    "\n",
    "print(\"Tuple sau khi *\", languages)"
   ]
  },
  {
   "cell_type": "code",
   "execution_count": 8,
   "id": "702628f0",
   "metadata": {},
   "outputs": [
    {
     "name": "stdout",
     "output_type": "stream",
     "text": [
      "PHP\n",
      "Python\n",
      "C#\n"
     ]
    }
   ],
   "source": [
    "\"\"\"\n",
    "Unpacking: Khi tuple được  tạo, chúng ta gói các giá trị (phần tử) \n",
    "vào trong 1 biến kiểu tuple (quá trình này gọi là packing). \n",
    "Ở chiều ngược lại, khi ta lấy các giá trị của tuple lưu vào các biến được gọi là unpacking.\n",
    "\"\"\"\n",
    "languages = (\"PHP\", \"Python\", \"C#\")\n",
    "\n",
    "(php, python, c_sharp) = languages\n",
    "print(php)\n",
    "print(python)\n",
    "print(c_sharp)"
   ]
  },
  {
   "cell_type": "code",
   "execution_count": 9,
   "id": "743c6415",
   "metadata": {},
   "outputs": [
    {
     "name": "stdout",
     "output_type": "stream",
     "text": [
      "PHP\n",
      "Python\n",
      "['C#', 'Java', 'Visual Basic']\n"
     ]
    }
   ],
   "source": [
    "\"\"\"\n",
    "Lưu ý, số lượng biến dùng để unpack tuple phải bằng số lượng phần tử trong tuple. \n",
    "Trong trường hợp số lượng biến nhỏ hơn, ta phải thêm dấu * trước 1 biến nào đó, \n",
    "lúc đó biến chứa dấu * sẽ chứa tất cả những phần tử còn lại trong tuple.\n",
    "\"\"\"\n",
    "languages = (\"PHP\", \"Python\", \"C#\", \"Java\", \"Visual Basic\")\n",
    "\n",
    "(php, python, *other) = languages\n",
    "print(php)\n",
    "print(python)\n",
    "print(other)"
   ]
  },
  {
   "cell_type": "code",
   "execution_count": 10,
   "id": "7258cf18",
   "metadata": {},
   "outputs": [
    {
     "name": "stdout",
     "output_type": "stream",
     "text": [
      "Số lần phần tử Python trong tuple =  2\n",
      "Index of C# =  2\n"
     ]
    },
    {
     "ename": "ValueError",
     "evalue": "tuple.index(x): x not in tuple",
     "output_type": "error",
     "traceback": [
      "\u001b[1;31m---------------------------------------------------------------------------\u001b[0m",
      "\u001b[1;31mValueError\u001b[0m                                Traceback (most recent call last)",
      "\u001b[1;32m~\\AppData\\Local\\Temp/ipykernel_12512/728289091.py\u001b[0m in \u001b[0;36m<module>\u001b[1;34m\u001b[0m\n\u001b[0;32m     17\u001b[0m \u001b[1;33m\u001b[0m\u001b[0m\n\u001b[0;32m     18\u001b[0m \u001b[1;31m# Nếu phần tử không tồn tại trong tuple, sẽ phát sinh lỗi\u001b[0m\u001b[1;33m\u001b[0m\u001b[1;33m\u001b[0m\u001b[1;33m\u001b[0m\u001b[0m\n\u001b[1;32m---> 19\u001b[1;33m \u001b[0mprint\u001b[0m\u001b[1;33m(\u001b[0m\u001b[1;34m\"Index of Swift = \"\u001b[0m\u001b[1;33m,\u001b[0m \u001b[0mlanguages\u001b[0m\u001b[1;33m.\u001b[0m\u001b[0mindex\u001b[0m\u001b[1;33m(\u001b[0m\u001b[1;34m\"Swift\"\u001b[0m\u001b[1;33m)\u001b[0m\u001b[1;33m)\u001b[0m\u001b[1;33m\u001b[0m\u001b[1;33m\u001b[0m\u001b[0m\n\u001b[0m",
      "\u001b[1;31mValueError\u001b[0m: tuple.index(x): x not in tuple"
     ]
    }
   ],
   "source": [
    "\"\"\"\n",
    "Phương thức với tuple: Hai phương thức có sẵn để làm việc với tuple: \n",
    "count() kiểm tra số lần xuất hiện của một giá trị nào đó trong tuple. \n",
    "index() là phương thức tìm kiếm một giá trị nào đó trong tuple\n",
    "\n",
    "\"\"\"\n",
    "\n",
    "languages = (\"PHP\", \"Python\", \"C#\", \"Java\", \"Visual Basic\", \"Python\")\n",
    "\n",
    "# Số lần phần tử Python xuất hiện trong tuple\n",
    "p = languages.count(\"Python\")\n",
    "print(\"Số lần phần tử Python trong tuple = \", p)\n",
    "\n",
    "# Tìm kiếm phần tử C# trong tuple\n",
    "i_c_sharp = languages.index(\"C#\")\n",
    "print(\"Index of C# = \", i_c_sharp)\n",
    "\n",
    "# Nếu phần tử không tồn tại trong tuple, sẽ phát sinh lỗi\n",
    "print(\"Index of Swift = \", languages.index(\"Swift\"))"
   ]
  }
 ],
 "metadata": {
  "kernelspec": {
   "display_name": "Python 3 (ipykernel)",
   "language": "python",
   "name": "python3"
  },
  "language_info": {
   "codemirror_mode": {
    "name": "ipython",
    "version": 3
   },
   "file_extension": ".py",
   "mimetype": "text/x-python",
   "name": "python",
   "nbconvert_exporter": "python",
   "pygments_lexer": "ipython3",
   "version": "3.9.6"
  }
 },
 "nbformat": 4,
 "nbformat_minor": 5
}
