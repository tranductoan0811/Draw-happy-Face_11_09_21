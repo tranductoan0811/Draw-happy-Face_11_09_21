{
 "cells": [
  {
   "cell_type": "code",
   "execution_count": 7,
   "id": "df46f91d",
   "metadata": {},
   "outputs": [],
   "source": [
    "# chương trình cho người dùng nhập vào 3 số nguyên bất kỳ, \n",
    "# sau đó sẽ in ra thứ tự tăng dần của 3 số nguyên được nhập vào\n",
    "\n",
    "# Khởi tạo biến temp với giá trị khởi tạo bằng 0, \n",
    "# biến này sẽ là biến lưu tạm các giá trị khi chuyển đổi thứ tự các số\n",
    "temp = 0\n",
    "\n",
    "# Dùng if…elif để kiểm tra hai trường hợp nếu num2 hoặc num3 là số bé nhất \n",
    "# để trao đổi giá trị num2 hoặc num3 cho num1 (số bé nhất sẽ được đưa lên đầu)\n",
    "def sort_numbers(num1, num2, num3):\n",
    "    if num2 < num1 and num2 < num3:\n",
    "        temp = num1\n",
    "        num1 = num2\n",
    "        num2 = temp\n",
    "        \n",
    "    elif num3 < num1 and num3 < num2:\n",
    "        temp = num3\n",
    "        num1 = num2\n",
    "        num2 = temp\n",
    "\n",
    "    if num3 < num2:\n",
    "        temp = num2\n",
    "        num2 = num3\n",
    "        num3 = temp\n",
    "    return (num1, num2, num3)\n"
   ]
  },
  {
   "cell_type": "code",
   "execution_count": 8,
   "id": "be1e2321",
   "metadata": {},
   "outputs": [
    {
     "name": "stdout",
     "output_type": "stream",
     "text": [
      "Enter first number: 6\n",
      "Enter second number: 4\n",
      "Enter third number: 8\n"
     ]
    }
   ],
   "source": [
    "# Nhận chuỗi số muốn đếm của người dùng\n",
    "x = int(input(\"Enter first number: \"))\n",
    "y = int(input(\"Enter second number: \"))\n",
    "z = int(input(\"Enter third number: \"))"
   ]
  },
  {
   "cell_type": "code",
   "execution_count": 9,
   "id": "bb6c97eb",
   "metadata": {},
   "outputs": [
    {
     "name": "stdout",
     "output_type": "stream",
     "text": [
      "Original numbers:  6 4 8\n",
      "Sorted numbers:  4 6 8\n"
     ]
    }
   ],
   "source": [
    "a, b, c = sort_numbers(x, y, z)\n",
    "print(\"Original numbers: \", x, y, z)\n",
    "print(\"Sorted numbers: \", a, b, c)"
   ]
  }
 ],
 "metadata": {
  "kernelspec": {
   "display_name": "Python 3 (ipykernel)",
   "language": "python",
   "name": "python3"
  },
  "language_info": {
   "codemirror_mode": {
    "name": "ipython",
    "version": 3
   },
   "file_extension": ".py",
   "mimetype": "text/x-python",
   "name": "python",
   "nbconvert_exporter": "python",
   "pygments_lexer": "ipython3",
   "version": "3.9.6"
  }
 },
 "nbformat": 4,
 "nbformat_minor": 5
}
