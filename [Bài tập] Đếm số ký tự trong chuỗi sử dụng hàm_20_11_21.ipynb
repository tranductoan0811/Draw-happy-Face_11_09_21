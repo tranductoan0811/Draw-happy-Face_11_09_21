{
 "cells": [
  {
   "cell_type": "code",
   "execution_count": 2,
   "id": "0e849766",
   "metadata": {},
   "outputs": [
    {
     "name": "stdout",
     "output_type": "stream",
     "text": [
      "Enter your string: trần đức toàn\n",
      "Độ dài chuỗi nhập vào là : 13\n"
     ]
    }
   ],
   "source": [
    "# chương trình cho phép người dùng nhập chuỗi\n",
    "# hiển thị số ký tự trong chuỗi vừa nhập vào\n",
    "#  Khởi tạo hàm đếm số ký tự trong chuỗi, tham số đầu vào sẽ là chuỗi được đếm\n",
    "\n",
    "def count_chars(txt):\n",
    "    result = 0\n",
    "    for char in txt:\n",
    "        result += 1\n",
    "    return result\n",
    "# Nhận chuỗi muốn đếm của người dùng\n",
    "input_str = input('Enter your string: ')\n",
    "\n",
    "# Gọi hàm đếm và in ra kết quả cho người dùng\n",
    "dem = count_chars(input_str)\n",
    "print(f\"Độ dài chuỗi nhập vào là : {dem}\")"
   ]
  }
 ],
 "metadata": {
  "kernelspec": {
   "display_name": "Python 3 (ipykernel)",
   "language": "python",
   "name": "python3"
  },
  "language_info": {
   "codemirror_mode": {
    "name": "ipython",
    "version": 3
   },
   "file_extension": ".py",
   "mimetype": "text/x-python",
   "name": "python",
   "nbconvert_exporter": "python",
   "pygments_lexer": "ipython3",
   "version": "3.9.6"
  }
 },
 "nbformat": 4,
 "nbformat_minor": 5
}
