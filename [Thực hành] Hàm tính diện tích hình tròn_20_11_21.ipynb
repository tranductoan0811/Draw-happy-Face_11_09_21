{
 "cells": [
  {
   "cell_type": "code",
   "execution_count": 7,
   "id": "8ac7d1c1",
   "metadata": {},
   "outputs": [],
   "source": [
    "#  Import thư viện turtle, math\n",
    "import turtle\n",
    "import math"
   ]
  },
  {
   "cell_type": "code",
   "execution_count": 8,
   "id": "5ddae567",
   "metadata": {},
   "outputs": [],
   "source": [
    "# Xây dựng hàm vẽ hình tròn\n",
    "def draw(r):\n",
    "    \"\"\"Hàm vẽ hình tròn với bán kính r\"\"\"\n",
    "    t = turtle.Turtle()\n",
    "    t.hideturtle()\n",
    "    t.pencolor('red')\n",
    "    t.circle(r)\n",
    "    turtle.done()\n",
    "    \n",
    "# Xây dựng hàm tính diện tích\n",
    "def area(r):\n",
    "    \"\"\"Hàm tính diện tích hình tròn với bán kính r\"\"\"\n",
    "    return round(math.pi * r * r,2)\n"
   ]
  },
  {
   "cell_type": "code",
   "execution_count": 9,
   "id": "325f5757",
   "metadata": {},
   "outputs": [
    {
     "name": "stdout",
     "output_type": "stream",
     "text": [
      "Nhập vào bán kính: 100\n",
      "Diện tích của hình tròn có bán kính = 100.0 là: 31415.93\n"
     ]
    }
   ],
   "source": [
    "# Sử dụng hàm\n",
    "r = float(input(\"Nhập vào bán kính: \"))\n",
    "draw(r)\n",
    "s = area(r)\n",
    "print(\"Diện tích của hình tròn có bán kính = {} là: {}\".format(r, s))"
   ]
  }
 ],
 "metadata": {
  "kernelspec": {
   "display_name": "Python 3 (ipykernel)",
   "language": "python",
   "name": "python3"
  },
  "language_info": {
   "codemirror_mode": {
    "name": "ipython",
    "version": 3
   },
   "file_extension": ".py",
   "mimetype": "text/x-python",
   "name": "python",
   "nbconvert_exporter": "python",
   "pygments_lexer": "ipython3",
   "version": "3.9.6"
  }
 },
 "nbformat": 4,
 "nbformat_minor": 5
}
