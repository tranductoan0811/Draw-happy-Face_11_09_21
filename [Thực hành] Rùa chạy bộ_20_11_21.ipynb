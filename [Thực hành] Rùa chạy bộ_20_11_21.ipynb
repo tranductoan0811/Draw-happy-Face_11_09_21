{
 "cells": [
  {
   "cell_type": "code",
   "execution_count": 1,
   "id": "e68a6cf7",
   "metadata": {},
   "outputs": [],
   "source": [
    "# Import các thư viện\n",
    "\n",
    "import turtle as t\n",
    "import random"
   ]
  },
  {
   "cell_type": "code",
   "execution_count": 2,
   "id": "3d300d4e",
   "metadata": {},
   "outputs": [],
   "source": [
    "# Tạo đường đua, nhập dự đoán của người dùng, và khởi tạo các tham số của cuộc đua\n",
    "# Tạo và quy định dài rộng của đường đua\n",
    "# và các tham số\n",
    "screen = t.Screen()\n",
    "screen.setup(height=500, width=600)\n",
    "# Hiển thị cửa sổ cho phép người dùng đoán\n",
    "# con rùa màu nào thắng cuộc\n",
    "guess = screen.textinput(prompt=\"Dự đoán con rùa nào chiến thắng?\", title=\"Nhập vào màu rùa (đỏ, nâu, xanh dương, xanh lá cây, cam, hồng)\")\n",
    "# List lưu lại màu của các con rùa\n",
    "colors = [\"red\", \"brown\", \"blue\", \"green\", \"orange\", \"pink\"]\n",
    "# Vị trí ban đầu theo trục y của các con rùa\n",
    "# Theo trục x = -250, cách vị trí 0,0 250 về bên trái\n",
    "y_position = [0, -30, 30, -60, 60, 90]\n",
    "# List lưu lại vận tốc của các con rùa\n",
    "# các giá trị này sẽ được chọn một cách ngẫu nhiên\n",
    "# cho các con rùa khi chạy\n",
    "turtle_speed = [10, 15, 20, 25, 30, 5]\n",
    "\n",
    "# Tạo một list để lưu các con rùa\n",
    "all_turtles = []\n",
    "run = True"
   ]
  },
  {
   "cell_type": "code",
   "execution_count": 3,
   "id": "6fed70ea",
   "metadata": {},
   "outputs": [],
   "source": [
    "# Xây dựng hàm tạo các con rùa, thiết đặt vị trí ban đầu, màu cho rùa\n",
    "# Xây dựng hàm để tạo và thiết đặt vị trí ban\n",
    "# đầu, màu cho các con rùa và lưu vào list\n",
    "for turtle in range(0, 6):\n",
    "    turtles = t.Turtle(shape=\"turtle\")\n",
    "    turtles.penup()\n",
    "    # Di chuyển rùa về vị trí ban đầu,\n",
    "    # bên trái cùng của đường đua\n",
    "    turtles.goto(x=-250, y=y_position[turtle])\n",
    "    # Màu của rùa\n",
    "    turtles.color(colors[turtle])\n",
    "    # Lưu vào list\n",
    "    all_turtles.append(turtles)"
   ]
  },
  {
   "cell_type": "code",
   "execution_count": 4,
   "id": "aefcf451",
   "metadata": {},
   "outputs": [],
   "source": [
    "# Xây dựng hàm di chuyển cho các con rùa\n",
    "# Xây dựng hàm di chuyển về đích của\n",
    "# mỗi con rùa, khoảng cách di chuyển được\n",
    "# chọn ngẫu nhiên trong các giá trị\n",
    "# được lưu trong list phía trên\n",
    "def random_walk(turtles):\n",
    "    global run\n",
    "    for turtle in turtles:\n",
    "        turtle.forward(random.choice(turtle_speed))\n",
    "        # Kiểm tra điều kiện cán đích\n",
    "        # Khi 1 con cán đích thì dừng lại\n",
    "        if turtle.xcor() > 250:\n",
    "            run = False"
   ]
  },
  {
   "cell_type": "code",
   "execution_count": 5,
   "id": "c7171b72",
   "metadata": {},
   "outputs": [],
   "source": [
    "# Chạy chương trình\n",
    "while run:\n",
    "    random_walk(all_turtles)\n",
    "\n",
    "# Chương trình kết thúc khi click\n",
    "# chuột lên màn hình\n",
    "screen.exitonclick()"
   ]
  }
 ],
 "metadata": {
  "kernelspec": {
   "display_name": "Python 3 (ipykernel)",
   "language": "python",
   "name": "python3"
  },
  "language_info": {
   "codemirror_mode": {
    "name": "ipython",
    "version": 3
   },
   "file_extension": ".py",
   "mimetype": "text/x-python",
   "name": "python",
   "nbconvert_exporter": "python",
   "pygments_lexer": "ipython3",
   "version": "3.9.6"
  }
 },
 "nbformat": 4,
 "nbformat_minor": 5
}
