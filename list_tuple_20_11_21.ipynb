{
 "cells": [
  {
   "cell_type": "code",
   "execution_count": 6,
   "id": "f4b00bd7",
   "metadata": {},
   "outputs": [
    {
     "name": "stdout",
     "output_type": "stream",
     "text": [
      "['PHP', 'Python', 'C#', 'Java', 'Android']\n"
     ]
    }
   ],
   "source": [
    "languages = [\"PHP\", \"Python\", \"C#\", \"Java\", \"Android\"]\n",
    "             \n",
    "print(languages)"
   ]
  },
  {
   "cell_type": "code",
   "execution_count": 7,
   "id": "04a0f128",
   "metadata": {
    "scrolled": true
   },
   "outputs": [
    {
     "name": "stdout",
     "output_type": "stream",
     "text": [
      "Phần tử thứ 2 =  Python\n",
      "Phần tử cuối cùng của list =  Android\n",
      "Phần tử thứ 2 đến phần tử thứ 3 của list =  ['Python', 'C#']\n",
      "Các phần tử từ phần tử thứ 3 đến cuối list ['C#', 'Java', 'Android']\n"
     ]
    }
   ],
   "source": [
    "# Kiểm tra số phần tử trong list: Dùng hàm len() để kiểm tra số phần tử trong list\n",
    "languages = [\"PHP\", \"Python\", \"C#\", \"Java\", \"Android\"]\n",
    "\n",
    "# Truy cập phần tử thứ 2 của list\n",
    "print(\"Phần tử thứ 2 = \", languages[1])\n",
    "\n",
    "# Dùng chỉ số âm để truy cập. -1 là chỉ số của phần tử cuối cùng\n",
    "print(\"Phần tử cuối cùng của list = \", languages[-1])\n",
    "\n",
    "# Dùng khoảng chỉ số để truy cập nhiều phần tử của list\n",
    "print(\"Phần tử thứ 2 đến phần tử thứ 3 của list = \", languages[1:3])\n",
    "\n",
    "print(\"Các phần tử từ phần tử thứ 3 đến cuối list\", languages[2:])"
   ]
  },
  {
   "cell_type": "code",
   "execution_count": 8,
   "id": "849cfb27",
   "metadata": {},
   "outputs": [
    {
     "name": "stdout",
     "output_type": "stream",
     "text": [
      "List trước khi thay đổi =  ['PHP', 'Python', 'C#', 'Java', 'Android']\n",
      "List sau khi thay đổi =  ['PHP', 'Javascript', 'C#', 'Java', 'Android']\n",
      "List sau khi thay đổi nhiều phần tử =  ['PHP', 'Javascript', 'Swift', 'Java', 'Android']\n"
     ]
    }
   ],
   "source": [
    "# Thay đổi giá trị của các phần tử trong list\n",
    "languages = [\"PHP\", \"Python\", \"C#\", \"Java\", \"Android\"]\n",
    "\n",
    "print(\"List trước khi thay đổi = \", languages)\n",
    "# Thay đổi giá trị của phần tử thứ 2\n",
    "languages[1] = \"Javascript\"\n",
    "print(\"List sau khi thay đổi = \", languages)\n",
    "\n",
    "# Thay đổi một lúc nhiều giá trị của list\n",
    "languages = [\"PHP\", \"Python\", \"C#\", \"Java\", \"Android\"]\n",
    "languages[1:3] = [\"Javascript\", \"Swift\"]\n",
    "print(\"List sau khi thay đổi nhiều phần tử = \", languages)"
   ]
  },
  {
   "cell_type": "code",
   "execution_count": 9,
   "id": "3b2032c8",
   "metadata": {},
   "outputs": [
    {
     "name": "stdout",
     "output_type": "stream",
     "text": [
      "List trước khi thêm phần tử =  ['PHP', 'Python', 'C#', 'Java', 'Android']\n",
      "List sau khi thêm phần tử =  ['PHP', 'Python', 'C#', 'Java', 'Android', 'C++']\n",
      "List sau khi thêm phần tử =  ['PHP', 'Swift', 'Python', 'C#', 'Java', 'Android', 'C++']\n"
     ]
    }
   ],
   "source": [
    "# Thêm phần tử mới vào list\n",
    "languages = [\"PHP\", \"Python\", \"C#\", \"Java\", \"Android\"]\n",
    "\n",
    "print(\"List trước khi thêm phần tử = \", languages)\n",
    "\n",
    "# Dùng phương thức append để thêm vào cuối list\n",
    "languages.append(\"C++\")\n",
    "print(\"List sau khi thêm phần tử = \", languages)\n",
    "\n",
    "# Dùng phương thức insert để thêm vào một vị trí bất kỳ trong list\n",
    "languages.insert(1, \"Swift\")\n",
    "print(\"List sau khi thêm phần tử = \", languages)"
   ]
  },
  {
   "cell_type": "code",
   "execution_count": 10,
   "id": "498d3fda",
   "metadata": {},
   "outputs": [
    {
     "name": "stdout",
     "output_type": "stream",
     "text": [
      "List trước khi thêm phần tử =  ['PHP', 'Python', 'C#', 'Java', 'Android']\n",
      "List sau khi mở rộng bằng extend() =  ['PHP', 'Python', 'C#', 'Java', 'Android', 'Swift', 'C++']\n",
      "List sau khi mở rộng bằng toán tử + =  ['PHP', 'Python', 'C#', 'Java', 'Android', 'Swift', 'C++']\n"
     ]
    }
   ],
   "source": [
    "# phương thức extend() cũng được dùng để thêm vào list các phần tử của list khác. \n",
    "# (Toán tử + có chức năng tương tự extend())\n",
    "\n",
    "languages = [\"PHP\", \"Python\", \"C#\", \"Java\", \"Android\"]\n",
    "\n",
    "print(\"List trước khi thêm phần tử = \", languages)\n",
    "\n",
    "languages_extend = [\"Swift\", \"C++\"]\n",
    "\n",
    "# Nối hai list bằng extend()\n",
    "languages.extend(languages_extend)\n",
    "print(\"List sau khi mở rộng bằng extend() = \", languages)\n",
    "\n",
    "languages = [\"PHP\", \"Python\", \"C#\", \"Java\", \"Android\"]\n",
    "# Nối hai list bằng toán tử +\n",
    "languages_joint = languages + languages_extend\n",
    "print(\"List sau khi mở rộng bằng toán tử + = \", languages_joint)"
   ]
  },
  {
   "cell_type": "code",
   "execution_count": 11,
   "id": "99776139",
   "metadata": {},
   "outputs": [
    {
     "name": "stdout",
     "output_type": "stream",
     "text": [
      "List trước khi xóa =  ['PHP', 'Python', 'C#', 'Java', 'Android']\n",
      "List sau khi xóa bởi phương thức remove()=  ['PHP', 'Python', 'Java', 'Android']\n",
      "List sau khi xóa bởi phương thức pop() =  ['PHP', 'Java', 'Android']\n"
     ]
    }
   ],
   "source": [
    "# Xóa phần tử của list\n",
    "languages = [\"PHP\", \"Python\", \"C#\", \"Java\", \"Android\"]\n",
    "\n",
    "print(\"List trước khi xóa = \", languages)\n",
    "\n",
    "# Dùng phương thức remove()\n",
    "languages.remove(\"C#\")\n",
    "print(\"List sau khi xóa bởi phương thức remove()= \", languages)\n",
    "\n",
    "# Dùng phương thức pop() để xóa phần tử thứ 2 trong list\n",
    "# Lưu ý: Khi dùng pop không có tham số, phần tử cuối cùng của list sẽ\n",
    "# được xóa khỏi list\n",
    "languages.pop(1)\n",
    "print(\"List sau khi xóa bởi phương thức pop() = \", languages)"
   ]
  },
  {
   "cell_type": "code",
   "execution_count": 12,
   "id": "89a6a15e",
   "metadata": {},
   "outputs": [
    {
     "name": "stdout",
     "output_type": "stream",
     "text": [
      "List trước khi xóa =  ['PHP', 'Python', 'C#', 'Java', 'Android']\n",
      "List sau khi xóa bởi del=  ['PHP', 'C#', 'Java', 'Android']\n"
     ]
    }
   ],
   "source": [
    "# Ngoài 2 phương pháp trên, từ khóa del cũng được dùng để xóa một phần tử trong list \n",
    "# thông qua chỉ số của nó hoặc xóa toàn bộ list\n",
    "languages = [\"PHP\", \"Python\", \"C#\", \"Java\", \"Android\"]\n",
    "\n",
    "print(\"List trước khi xóa = \", languages)\n",
    "\n",
    "# Dùng từ khóa del xóa phần tử thứ 2 của list\n",
    "del languages[1]\n",
    "print(\"List sau khi xóa bởi del= \", languages)\n",
    "\n",
    "# Xóa toàn bộ list, sau khi xóa, language không tồn taị\n",
    "del languages\n"
   ]
  },
  {
   "cell_type": "code",
   "execution_count": 13,
   "id": "5cb26ba1",
   "metadata": {},
   "outputs": [
    {
     "name": "stdout",
     "output_type": "stream",
     "text": [
      "List trước khi làm rỗng =  ['PHP', 'Python', 'C#', 'Java', 'Android']\n",
      "List sau khi làm rỗng =  []\n"
     ]
    }
   ],
   "source": [
    "# Làm rỗng list: Để làm rỗng list dùng phương thức clear()\n",
    "languages = [\"PHP\", \"Python\", \"C#\", \"Java\", \"Android\"]\n",
    "\n",
    "print(\"List trước khi làm rỗng = \", languages)\n",
    "\n",
    "# Làm rỗng list với phương thức clear()\n",
    "languages.clear()\n",
    "print(\"List sau khi làm rỗng = \", languages)"
   ]
  },
  {
   "cell_type": "code",
   "execution_count": 14,
   "id": "caf1546e",
   "metadata": {},
   "outputs": [
    {
     "name": "stdout",
     "output_type": "stream",
     "text": [
      "List trước khi sắp xếp =  ['PHP', 'Python', 'C#', 'Java', 'Android']\n",
      "List sau khi sắp xếp reverse = False =  ['Android', 'C#', 'Java', 'PHP', 'Python']\n",
      "List sau khi sắp xếp reverse = True =  ['Python', 'PHP', 'Java', 'C#', 'Android']\n"
     ]
    }
   ],
   "source": [
    "# Sắp xếp list: Dùng phương thức sort() để sắp xếp các phần tử trong list theo thứ tự mặc định là tăng dần. \n",
    "# Khi muốn sắp xếp theo thứ tự ngược lại, dùng sort() với tham số reverse = True\n",
    "languages = [\"PHP\", \"Python\", \"C#\", \"Java\", \"Android\"]\n",
    "\n",
    "print(\"List trước khi sắp xếp = \", languages)\n",
    "\n",
    "# Sắp xếp list với sort()\n",
    "languages.sort()\n",
    "print(\"List sau khi sắp xếp reverse = False = \", languages)\n",
    "\n",
    "# Sắp xếp list với sort() theo thứ tự ngược lại\n",
    "languages.sort(reverse=True)\n",
    "print(\"List sau khi sắp xếp reverse = True = \", languages)"
   ]
  },
  {
   "cell_type": "code",
   "execution_count": 15,
   "id": "cb74aa85",
   "metadata": {},
   "outputs": [
    {
     "name": "stdout",
     "output_type": "stream",
     "text": [
      "List 1 =  ['PHP', 'Python', 'C#', 'Java', 'Android']\n",
      "List 2 =  ['PHP', 'Python', 'C#', 'Java', 'Android']\n"
     ]
    }
   ],
   "source": [
    "# Copy list: Để tạo một list là copy của một list khác, \n",
    "# chúng ta không thể thực hiện bằng phương pháp gán list2 = list1 bởi vì list là kiểu dữ liệu tham chiếu. \n",
    "# Khi list1 thay đổi thì list2 cũng thay đổi theo. Do vậy để tạo một list copy chúng ta sử dụng phương thức copy()\n",
    "\n",
    "languages = [\"PHP\", \"Python\", \"C#\", \"Java\", \"Android\"]\n",
    "\n",
    "print(\"List 1 = \", languages)\n",
    "\n",
    "# Tạo list 2 là từ list 1 bằng phương thức copy()\n",
    "languages2 = languages.copy()\n",
    "print(\"List 2 = \", languages2)"
   ]
  }
 ],
 "metadata": {
  "kernelspec": {
   "display_name": "Python 3 (ipykernel)",
   "language": "python",
   "name": "python3"
  },
  "language_info": {
   "codemirror_mode": {
    "name": "ipython",
    "version": 3
   },
   "file_extension": ".py",
   "mimetype": "text/x-python",
   "name": "python",
   "nbconvert_exporter": "python",
   "pygments_lexer": "ipython3",
   "version": "3.9.6"
  }
 },
 "nbformat": 4,
 "nbformat_minor": 5
}
